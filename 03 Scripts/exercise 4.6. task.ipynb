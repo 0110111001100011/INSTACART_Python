{
 "cells": [
  {
   "cell_type": "code",
   "execution_count": 13,
   "id": "38eb174f",
   "metadata": {},
   "outputs": [],
   "source": [
    "# Import libraries\n",
    "\n",
    "import pandas as pd\n",
    "import numpy as np\n",
    "import os"
   ]
  },
  {
   "cell_type": "code",
   "execution_count": 14,
   "id": "f4bc8de2",
   "metadata": {},
   "outputs": [],
   "source": [
    "# creating a path\n",
    "path = r'C:\\Users\\dog\\Desktop\\Instacart Basket Analysis'"
   ]
  },
  {
   "cell_type": "code",
   "execution_count": 17,
   "id": "05d7fbdf",
   "metadata": {
    "scrolled": false
   },
   "outputs": [],
   "source": [
    "# 3 importing pickle file \n",
    "df_orders_products_combined = pd.read_pickle(os.path.join(path, '02 Data', 'Prepared Data', 'orders_products_combined.pkl'))"
   ]
  },
  {
   "cell_type": "code",
   "execution_count": 18,
   "id": "783b0a87",
   "metadata": {},
   "outputs": [
    {
     "data": {
      "text/plain": [
       "(32434489, 11)"
      ]
     },
     "execution_count": 18,
     "metadata": {},
     "output_type": "execute_result"
    }
   ],
   "source": [
    "# 4 checking shape of the imported pkl file. The result is the same \n",
    "df_orders_products_combined.shape"
   ]
  },
  {
   "cell_type": "code",
   "execution_count": null,
   "id": "f9753c77",
   "metadata": {},
   "outputs": [],
   "source": [
    "# Determine a suitable way to combine the orders_products_combined dataframe with your products data set.\n",
    "#Make sure you’re using your wrangled, cleaned, and deduped products data set\n",
    "# stored in your “Prepared Data” folder from the previous Exercise’s task."
   ]
  },
  {
   "cell_type": "code",
   "execution_count": 22,
   "id": "00673edf",
   "metadata": {},
   "outputs": [],
   "source": [
    "df_prods_cleaned_no_dups = pd.read_csv(os.path.join(path, '02 Data', 'Prepared Data', 'df_prods_clean_no_dups.csv'), index_col = False)"
   ]
  },
  {
   "cell_type": "code",
   "execution_count": 23,
   "id": "8dc8c503",
   "metadata": {},
   "outputs": [
    {
     "name": "stdout",
     "output_type": "stream",
     "text": [
      "<class 'pandas.core.frame.DataFrame'>\n",
      "RangeIndex: 49672 entries, 0 to 49671\n",
      "Data columns (total 6 columns):\n",
      " #   Column         Non-Null Count  Dtype  \n",
      "---  ------         --------------  -----  \n",
      " 0   Unnamed: 0     49672 non-null  int64  \n",
      " 1   product_id     49672 non-null  int64  \n",
      " 2   product_name   49672 non-null  object \n",
      " 3   aisle_id       49672 non-null  int64  \n",
      " 4   department_id  49672 non-null  int64  \n",
      " 5   prices         49672 non-null  float64\n",
      "dtypes: float64(1), int64(4), object(1)\n",
      "memory usage: 2.3+ MB\n"
     ]
    }
   ],
   "source": [
    "df_prods_cleaned_no_dups.info()"
   ]
  },
  {
   "cell_type": "code",
   "execution_count": 32,
   "id": "e46c42ca",
   "metadata": {},
   "outputs": [
    {
     "data": {
      "text/html": [
       "<div>\n",
       "<style scoped>\n",
       "    .dataframe tbody tr th:only-of-type {\n",
       "        vertical-align: middle;\n",
       "    }\n",
       "\n",
       "    .dataframe tbody tr th {\n",
       "        vertical-align: top;\n",
       "    }\n",
       "\n",
       "    .dataframe thead th {\n",
       "        text-align: right;\n",
       "    }\n",
       "</style>\n",
       "<table border=\"1\" class=\"dataframe\">\n",
       "  <thead>\n",
       "    <tr style=\"text-align: right;\">\n",
       "      <th></th>\n",
       "      <th>Unnamed: 0</th>\n",
       "      <th>product_id</th>\n",
       "      <th>product_name</th>\n",
       "      <th>aisle_id</th>\n",
       "      <th>department_id</th>\n",
       "      <th>prices</th>\n",
       "    </tr>\n",
       "  </thead>\n",
       "  <tbody>\n",
       "    <tr>\n",
       "      <th>0</th>\n",
       "      <td>0</td>\n",
       "      <td>1</td>\n",
       "      <td>Chocolate Sandwich Cookies</td>\n",
       "      <td>61</td>\n",
       "      <td>19</td>\n",
       "      <td>5.8</td>\n",
       "    </tr>\n",
       "    <tr>\n",
       "      <th>1</th>\n",
       "      <td>1</td>\n",
       "      <td>2</td>\n",
       "      <td>All-Seasons Salt</td>\n",
       "      <td>104</td>\n",
       "      <td>13</td>\n",
       "      <td>9.3</td>\n",
       "    </tr>\n",
       "    <tr>\n",
       "      <th>2</th>\n",
       "      <td>2</td>\n",
       "      <td>3</td>\n",
       "      <td>Robust Golden Unsweetened Oolong Tea</td>\n",
       "      <td>94</td>\n",
       "      <td>7</td>\n",
       "      <td>4.5</td>\n",
       "    </tr>\n",
       "    <tr>\n",
       "      <th>3</th>\n",
       "      <td>3</td>\n",
       "      <td>4</td>\n",
       "      <td>Smart Ones Classic Favorites Mini Rigatoni Wit...</td>\n",
       "      <td>38</td>\n",
       "      <td>1</td>\n",
       "      <td>10.5</td>\n",
       "    </tr>\n",
       "    <tr>\n",
       "      <th>4</th>\n",
       "      <td>4</td>\n",
       "      <td>5</td>\n",
       "      <td>Green Chile Anytime Sauce</td>\n",
       "      <td>5</td>\n",
       "      <td>13</td>\n",
       "      <td>4.3</td>\n",
       "    </tr>\n",
       "  </tbody>\n",
       "</table>\n",
       "</div>"
      ],
      "text/plain": [
       "   Unnamed: 0  product_id                                       product_name  \\\n",
       "0           0           1                         Chocolate Sandwich Cookies   \n",
       "1           1           2                                   All-Seasons Salt   \n",
       "2           2           3               Robust Golden Unsweetened Oolong Tea   \n",
       "3           3           4  Smart Ones Classic Favorites Mini Rigatoni Wit...   \n",
       "4           4           5                          Green Chile Anytime Sauce   \n",
       "\n",
       "   aisle_id  department_id  prices  \n",
       "0        61             19     5.8  \n",
       "1       104             13     9.3  \n",
       "2        94              7     4.5  \n",
       "3        38              1    10.5  \n",
       "4         5             13     4.3  "
      ]
     },
     "execution_count": 32,
     "metadata": {},
     "output_type": "execute_result"
    }
   ],
   "source": [
    "df_prods_cleaned_no_dups.head()"
   ]
  },
  {
   "cell_type": "code",
   "execution_count": 24,
   "id": "47bb85b9",
   "metadata": {},
   "outputs": [
    {
     "name": "stdout",
     "output_type": "stream",
     "text": [
      "<class 'pandas.core.frame.DataFrame'>\n",
      "Int64Index: 32434489 entries, 0 to 32434488\n",
      "Data columns (total 11 columns):\n",
      " #   Column                  Dtype   \n",
      "---  ------                  -----   \n",
      " 0   order_id                int64   \n",
      " 1   user_id                 int64   \n",
      " 2   eval_set                object  \n",
      " 3   order_number            int64   \n",
      " 4   order_dow               int64   \n",
      " 5   order_hour_of_day       int64   \n",
      " 6   days_since_prior_order  float64 \n",
      " 7   product_id              int64   \n",
      " 8   add_to_cart_order       int64   \n",
      " 9   reordered               int64   \n",
      " 10  _merge                  category\n",
      "dtypes: category(1), float64(1), int64(8), object(1)\n",
      "memory usage: 2.7+ GB\n"
     ]
    }
   ],
   "source": [
    "df_orders_products_combined.info()"
   ]
  },
  {
   "cell_type": "markdown",
   "id": "6a89a3bb",
   "metadata": {},
   "source": [
    "### since we need to check whether both tables got matched, we need to drop _merge column in the combined df from pickle file. We will create new indicator for the merged data frames"
   ]
  },
  {
   "cell_type": "code",
   "execution_count": 28,
   "id": "45ab26e7",
   "metadata": {},
   "outputs": [],
   "source": [
    "# Drop column _merge, so that we can combine 2 new data frames together\n",
    "df_orders_products_combined = df_orders_products_combined.drop(columns=['_merge'])"
   ]
  },
  {
   "cell_type": "code",
   "execution_count": 29,
   "id": "25451e65",
   "metadata": {
    "scrolled": true
   },
   "outputs": [
    {
     "name": "stdout",
     "output_type": "stream",
     "text": [
      "<class 'pandas.core.frame.DataFrame'>\n",
      "Int64Index: 32434489 entries, 0 to 32434488\n",
      "Data columns (total 10 columns):\n",
      " #   Column                  Dtype  \n",
      "---  ------                  -----  \n",
      " 0   order_id                int64  \n",
      " 1   user_id                 int64  \n",
      " 2   eval_set                object \n",
      " 3   order_number            int64  \n",
      " 4   order_dow               int64  \n",
      " 5   order_hour_of_day       int64  \n",
      " 6   days_since_prior_order  float64\n",
      " 7   product_id              int64  \n",
      " 8   add_to_cart_order       int64  \n",
      " 9   reordered               int64  \n",
      "dtypes: float64(1), int64(8), object(1)\n",
      "memory usage: 2.7+ GB\n"
     ]
    }
   ],
   "source": [
    "df_orders_products_combined.info()"
   ]
  },
  {
   "cell_type": "code",
   "execution_count": 30,
   "id": "498c5825",
   "metadata": {
    "scrolled": true
   },
   "outputs": [],
   "source": [
    "#merging two data frames \n",
    "df_merged_ords_combnd_and_prods_clnd = df_orders_products_combined.merge(df_prods_cleaned_no_dups, on = 'product_id', indicator = True)"
   ]
  },
  {
   "cell_type": "code",
   "execution_count": 33,
   "id": "eb60cb47",
   "metadata": {
    "scrolled": true
   },
   "outputs": [
    {
     "data": {
      "text/html": [
       "<div>\n",
       "<style scoped>\n",
       "    .dataframe tbody tr th:only-of-type {\n",
       "        vertical-align: middle;\n",
       "    }\n",
       "\n",
       "    .dataframe tbody tr th {\n",
       "        vertical-align: top;\n",
       "    }\n",
       "\n",
       "    .dataframe thead th {\n",
       "        text-align: right;\n",
       "    }\n",
       "</style>\n",
       "<table border=\"1\" class=\"dataframe\">\n",
       "  <thead>\n",
       "    <tr style=\"text-align: right;\">\n",
       "      <th></th>\n",
       "      <th>order_id</th>\n",
       "      <th>user_id</th>\n",
       "      <th>eval_set</th>\n",
       "      <th>order_number</th>\n",
       "      <th>order_dow</th>\n",
       "      <th>order_hour_of_day</th>\n",
       "      <th>days_since_prior_order</th>\n",
       "      <th>product_id</th>\n",
       "      <th>add_to_cart_order</th>\n",
       "      <th>reordered</th>\n",
       "      <th>Unnamed: 0</th>\n",
       "      <th>product_name</th>\n",
       "      <th>aisle_id</th>\n",
       "      <th>department_id</th>\n",
       "      <th>prices</th>\n",
       "      <th>_merge</th>\n",
       "    </tr>\n",
       "  </thead>\n",
       "  <tbody>\n",
       "    <tr>\n",
       "      <th>0</th>\n",
       "      <td>2539329</td>\n",
       "      <td>1</td>\n",
       "      <td>prior</td>\n",
       "      <td>1</td>\n",
       "      <td>2</td>\n",
       "      <td>8</td>\n",
       "      <td>NaN</td>\n",
       "      <td>196</td>\n",
       "      <td>1</td>\n",
       "      <td>0</td>\n",
       "      <td>195</td>\n",
       "      <td>Soda</td>\n",
       "      <td>77</td>\n",
       "      <td>7</td>\n",
       "      <td>9.0</td>\n",
       "      <td>both</td>\n",
       "    </tr>\n",
       "    <tr>\n",
       "      <th>1</th>\n",
       "      <td>2398795</td>\n",
       "      <td>1</td>\n",
       "      <td>prior</td>\n",
       "      <td>2</td>\n",
       "      <td>3</td>\n",
       "      <td>7</td>\n",
       "      <td>15.0</td>\n",
       "      <td>196</td>\n",
       "      <td>1</td>\n",
       "      <td>1</td>\n",
       "      <td>195</td>\n",
       "      <td>Soda</td>\n",
       "      <td>77</td>\n",
       "      <td>7</td>\n",
       "      <td>9.0</td>\n",
       "      <td>both</td>\n",
       "    </tr>\n",
       "    <tr>\n",
       "      <th>2</th>\n",
       "      <td>473747</td>\n",
       "      <td>1</td>\n",
       "      <td>prior</td>\n",
       "      <td>3</td>\n",
       "      <td>3</td>\n",
       "      <td>12</td>\n",
       "      <td>21.0</td>\n",
       "      <td>196</td>\n",
       "      <td>1</td>\n",
       "      <td>1</td>\n",
       "      <td>195</td>\n",
       "      <td>Soda</td>\n",
       "      <td>77</td>\n",
       "      <td>7</td>\n",
       "      <td>9.0</td>\n",
       "      <td>both</td>\n",
       "    </tr>\n",
       "    <tr>\n",
       "      <th>3</th>\n",
       "      <td>2254736</td>\n",
       "      <td>1</td>\n",
       "      <td>prior</td>\n",
       "      <td>4</td>\n",
       "      <td>4</td>\n",
       "      <td>7</td>\n",
       "      <td>29.0</td>\n",
       "      <td>196</td>\n",
       "      <td>1</td>\n",
       "      <td>1</td>\n",
       "      <td>195</td>\n",
       "      <td>Soda</td>\n",
       "      <td>77</td>\n",
       "      <td>7</td>\n",
       "      <td>9.0</td>\n",
       "      <td>both</td>\n",
       "    </tr>\n",
       "    <tr>\n",
       "      <th>4</th>\n",
       "      <td>431534</td>\n",
       "      <td>1</td>\n",
       "      <td>prior</td>\n",
       "      <td>5</td>\n",
       "      <td>4</td>\n",
       "      <td>15</td>\n",
       "      <td>28.0</td>\n",
       "      <td>196</td>\n",
       "      <td>1</td>\n",
       "      <td>1</td>\n",
       "      <td>195</td>\n",
       "      <td>Soda</td>\n",
       "      <td>77</td>\n",
       "      <td>7</td>\n",
       "      <td>9.0</td>\n",
       "      <td>both</td>\n",
       "    </tr>\n",
       "    <tr>\n",
       "      <th>...</th>\n",
       "      <td>...</td>\n",
       "      <td>...</td>\n",
       "      <td>...</td>\n",
       "      <td>...</td>\n",
       "      <td>...</td>\n",
       "      <td>...</td>\n",
       "      <td>...</td>\n",
       "      <td>...</td>\n",
       "      <td>...</td>\n",
       "      <td>...</td>\n",
       "      <td>...</td>\n",
       "      <td>...</td>\n",
       "      <td>...</td>\n",
       "      <td>...</td>\n",
       "      <td>...</td>\n",
       "      <td>...</td>\n",
       "    </tr>\n",
       "    <tr>\n",
       "      <th>32404854</th>\n",
       "      <td>1320836</td>\n",
       "      <td>202557</td>\n",
       "      <td>prior</td>\n",
       "      <td>17</td>\n",
       "      <td>2</td>\n",
       "      <td>15</td>\n",
       "      <td>1.0</td>\n",
       "      <td>43553</td>\n",
       "      <td>2</td>\n",
       "      <td>1</td>\n",
       "      <td>43557</td>\n",
       "      <td>Orange Energy Shots</td>\n",
       "      <td>64</td>\n",
       "      <td>7</td>\n",
       "      <td>3.7</td>\n",
       "      <td>both</td>\n",
       "    </tr>\n",
       "    <tr>\n",
       "      <th>32404855</th>\n",
       "      <td>31526</td>\n",
       "      <td>202557</td>\n",
       "      <td>prior</td>\n",
       "      <td>18</td>\n",
       "      <td>5</td>\n",
       "      <td>11</td>\n",
       "      <td>3.0</td>\n",
       "      <td>43553</td>\n",
       "      <td>2</td>\n",
       "      <td>1</td>\n",
       "      <td>43557</td>\n",
       "      <td>Orange Energy Shots</td>\n",
       "      <td>64</td>\n",
       "      <td>7</td>\n",
       "      <td>3.7</td>\n",
       "      <td>both</td>\n",
       "    </tr>\n",
       "    <tr>\n",
       "      <th>32404856</th>\n",
       "      <td>758936</td>\n",
       "      <td>203436</td>\n",
       "      <td>prior</td>\n",
       "      <td>1</td>\n",
       "      <td>2</td>\n",
       "      <td>7</td>\n",
       "      <td>NaN</td>\n",
       "      <td>42338</td>\n",
       "      <td>4</td>\n",
       "      <td>0</td>\n",
       "      <td>42342</td>\n",
       "      <td>Zucchini Chips, Pesto</td>\n",
       "      <td>50</td>\n",
       "      <td>19</td>\n",
       "      <td>6.9</td>\n",
       "      <td>both</td>\n",
       "    </tr>\n",
       "    <tr>\n",
       "      <th>32404857</th>\n",
       "      <td>2745165</td>\n",
       "      <td>203436</td>\n",
       "      <td>prior</td>\n",
       "      <td>2</td>\n",
       "      <td>3</td>\n",
       "      <td>5</td>\n",
       "      <td>15.0</td>\n",
       "      <td>42338</td>\n",
       "      <td>16</td>\n",
       "      <td>1</td>\n",
       "      <td>42342</td>\n",
       "      <td>Zucchini Chips, Pesto</td>\n",
       "      <td>50</td>\n",
       "      <td>19</td>\n",
       "      <td>6.9</td>\n",
       "      <td>both</td>\n",
       "    </tr>\n",
       "    <tr>\n",
       "      <th>32404858</th>\n",
       "      <td>3093936</td>\n",
       "      <td>205420</td>\n",
       "      <td>prior</td>\n",
       "      <td>1</td>\n",
       "      <td>4</td>\n",
       "      <td>14</td>\n",
       "      <td>NaN</td>\n",
       "      <td>28818</td>\n",
       "      <td>8</td>\n",
       "      <td>0</td>\n",
       "      <td>28820</td>\n",
       "      <td>Hot Oatmeal Multigrain Raisin</td>\n",
       "      <td>130</td>\n",
       "      <td>14</td>\n",
       "      <td>10.3</td>\n",
       "      <td>both</td>\n",
       "    </tr>\n",
       "  </tbody>\n",
       "</table>\n",
       "<p>32404859 rows × 16 columns</p>\n",
       "</div>"
      ],
      "text/plain": [
       "          order_id  user_id eval_set  order_number  order_dow  \\\n",
       "0          2539329        1    prior             1          2   \n",
       "1          2398795        1    prior             2          3   \n",
       "2           473747        1    prior             3          3   \n",
       "3          2254736        1    prior             4          4   \n",
       "4           431534        1    prior             5          4   \n",
       "...            ...      ...      ...           ...        ...   \n",
       "32404854   1320836   202557    prior            17          2   \n",
       "32404855     31526   202557    prior            18          5   \n",
       "32404856    758936   203436    prior             1          2   \n",
       "32404857   2745165   203436    prior             2          3   \n",
       "32404858   3093936   205420    prior             1          4   \n",
       "\n",
       "          order_hour_of_day  days_since_prior_order  product_id  \\\n",
       "0                         8                     NaN         196   \n",
       "1                         7                    15.0         196   \n",
       "2                        12                    21.0         196   \n",
       "3                         7                    29.0         196   \n",
       "4                        15                    28.0         196   \n",
       "...                     ...                     ...         ...   \n",
       "32404854                 15                     1.0       43553   \n",
       "32404855                 11                     3.0       43553   \n",
       "32404856                  7                     NaN       42338   \n",
       "32404857                  5                    15.0       42338   \n",
       "32404858                 14                     NaN       28818   \n",
       "\n",
       "          add_to_cart_order  reordered  Unnamed: 0  \\\n",
       "0                         1          0         195   \n",
       "1                         1          1         195   \n",
       "2                         1          1         195   \n",
       "3                         1          1         195   \n",
       "4                         1          1         195   \n",
       "...                     ...        ...         ...   \n",
       "32404854                  2          1       43557   \n",
       "32404855                  2          1       43557   \n",
       "32404856                  4          0       42342   \n",
       "32404857                 16          1       42342   \n",
       "32404858                  8          0       28820   \n",
       "\n",
       "                           product_name  aisle_id  department_id  prices  \\\n",
       "0                                  Soda        77              7     9.0   \n",
       "1                                  Soda        77              7     9.0   \n",
       "2                                  Soda        77              7     9.0   \n",
       "3                                  Soda        77              7     9.0   \n",
       "4                                  Soda        77              7     9.0   \n",
       "...                                 ...       ...            ...     ...   \n",
       "32404854            Orange Energy Shots        64              7     3.7   \n",
       "32404855            Orange Energy Shots        64              7     3.7   \n",
       "32404856          Zucchini Chips, Pesto        50             19     6.9   \n",
       "32404857          Zucchini Chips, Pesto        50             19     6.9   \n",
       "32404858  Hot Oatmeal Multigrain Raisin       130             14    10.3   \n",
       "\n",
       "         _merge  \n",
       "0          both  \n",
       "1          both  \n",
       "2          both  \n",
       "3          both  \n",
       "4          both  \n",
       "...         ...  \n",
       "32404854   both  \n",
       "32404855   both  \n",
       "32404856   both  \n",
       "32404857   both  \n",
       "32404858   both  \n",
       "\n",
       "[32404859 rows x 16 columns]"
      ]
     },
     "execution_count": 33,
     "metadata": {},
     "output_type": "execute_result"
    }
   ],
   "source": [
    "#checking how the data set looks like \n",
    "df_merged_ords_combnd_and_prods_clnd"
   ]
  },
  {
   "cell_type": "markdown",
   "id": "9fc051bb",
   "metadata": {},
   "source": [
    "#### the only thing that looks a bit suspicious is a unnamed column, which I would clarify with the client, since I am not sure what that column stands for "
   ]
  },
  {
   "cell_type": "code",
   "execution_count": 34,
   "id": "b4ec9c4a",
   "metadata": {},
   "outputs": [
    {
     "data": {
      "text/plain": [
       "both          32404859\n",
       "left_only            0\n",
       "right_only           0\n",
       "Name: _merge, dtype: int64"
      ]
     },
     "execution_count": 34,
     "metadata": {},
     "output_type": "execute_result"
    }
   ],
   "source": [
    "# checking if the data was merged completely\n",
    "df_merged_ords_combnd_and_prods_clnd['_merge'].value_counts()"
   ]
  },
  {
   "cell_type": "code",
   "execution_count": 35,
   "id": "34feed09",
   "metadata": {},
   "outputs": [
    {
     "data": {
      "text/plain": [
       "(32404859, 16)"
      ]
     },
     "execution_count": 35,
     "metadata": {},
     "output_type": "execute_result"
    }
   ],
   "source": [
    "# checking shape of the merged data frame \n",
    "df_merged_ords_combnd_and_prods_clnd.shape"
   ]
  },
  {
   "cell_type": "code",
   "execution_count": 37,
   "id": "8e97b9d5",
   "metadata": {},
   "outputs": [],
   "source": [
    "# Export the newly created dataframe as orders_products_merged in a suitable format (taking into consideration the size).\n",
    "df_merged_ords_combnd_and_prods_clnd.to_pickle(os.path.join(path, '02 Data', 'Prepared Data', 'orders_products_merged.pkl'))"
   ]
  },
  {
   "cell_type": "code",
   "execution_count": null,
   "id": "eb1fa95e",
   "metadata": {},
   "outputs": [],
   "source": []
  }
 ],
 "metadata": {
  "kernelspec": {
   "display_name": "Python 3 (ipykernel)",
   "language": "python",
   "name": "python3"
  },
  "language_info": {
   "codemirror_mode": {
    "name": "ipython",
    "version": 3
   },
   "file_extension": ".py",
   "mimetype": "text/x-python",
   "name": "python",
   "nbconvert_exporter": "python",
   "pygments_lexer": "ipython3",
   "version": "3.9.13"
  }
 },
 "nbformat": 4,
 "nbformat_minor": 5
}
