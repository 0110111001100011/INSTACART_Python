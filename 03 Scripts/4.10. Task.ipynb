{
 "cells": [
  {
   "cell_type": "markdown",
   "id": "c2186d9e",
   "metadata": {},
   "source": [
    "# 4.10. final task"
   ]
  },
  {
   "cell_type": "code",
   "execution_count": 1,
   "id": "2620990e",
   "metadata": {},
   "outputs": [],
   "source": [
    "#importing libraries\n",
    "import pandas as pd\n",
    "import numpy as np\n",
    "import os\n",
    "import matplotlib.pyplot as plt\n",
    "import seaborn as sns\n",
    "import scipy"
   ]
  },
  {
   "cell_type": "code",
   "execution_count": 2,
   "id": "0a31f916",
   "metadata": {},
   "outputs": [],
   "source": [
    "# defining the path\n",
    "path = r'C:\\Users\\dog\\Desktop\\Instacart Basket Analysis'"
   ]
  },
  {
   "cell_type": "code",
   "execution_count": 3,
   "id": "f82a61d5",
   "metadata": {},
   "outputs": [],
   "source": [
    "# importing pickle file from the previous task\n",
    "df_ords_prods_custmrs = pd.read_pickle(os.path.join(path, '02 Data', 'Prepared Data', 'df_ords_prods_custmrs.pkl'))"
   ]
  },
  {
   "cell_type": "code",
   "execution_count": 121,
   "id": "2c1d0420",
   "metadata": {},
   "outputs": [
    {
     "name": "stdout",
     "output_type": "stream",
     "text": [
      "<class 'pandas.core.frame.DataFrame'>\n",
      "Int64Index: 32404859 entries, 0 to 32404858\n",
      "Data columns (total 35 columns):\n",
      " #   Column                                  Dtype  \n",
      "---  ------                                  -----  \n",
      " 0   order_id                                int64  \n",
      " 1   user_id                                 int64  \n",
      " 2   order_number                            int64  \n",
      " 3   order_dow                               int64  \n",
      " 4   order_hour_of_day                       int64  \n",
      " 5   days_since_prior_order                  float64\n",
      " 6   product_id                              int64  \n",
      " 7   add_to_cart_order                       int64  \n",
      " 8   reordered                               int64  \n",
      " 9   product_name                            object \n",
      " 10  aisle_id                                int64  \n",
      " 11  department_id                           int64  \n",
      " 12  prices                                  float64\n",
      " 13  price_range_loc                         object \n",
      " 14  busiest_day                             object \n",
      " 15  busiest_days_new                        object \n",
      " 16  busiest_hours                           object \n",
      " 17  max_orders                              int64  \n",
      " 18  customers_loyalty                       object \n",
      " 19  mean_price                              float64\n",
      " 20  spending_characteristic                 object \n",
      " 21  since_priors_order_median               float64\n",
      " 22  ordering_frequency                      object \n",
      " 23  gender                                  object \n",
      " 24  state                                   object \n",
      " 25  age                                     int64  \n",
      " 26  registration_date                       object \n",
      " 27  number_dependants                       int64  \n",
      " 28  marital_status                          object \n",
      " 29  income                                  int64  \n",
      " 30  us_region                               object \n",
      " 31  exclusion_column_less_than_five_orders  object \n",
      " 32  age_category                            object \n",
      " 33  income_category                         object \n",
      " 34  fam_size                                object \n",
      "dtypes: float64(4), int64(14), object(17)\n",
      "memory usage: 8.7+ GB\n"
     ]
    }
   ],
   "source": [
    "# checking imported data frame \n",
    "df_ords_prods_custmrs.info()"
   ]
  },
  {
   "cell_type": "code",
   "execution_count": 122,
   "id": "e4239231",
   "metadata": {},
   "outputs": [
    {
     "data": {
      "text/plain": [
       "(32404859, 35)"
      ]
     },
     "execution_count": 122,
     "metadata": {},
     "output_type": "execute_result"
    }
   ],
   "source": [
    "df_ords_prods_custmrs.shape"
   ]
  },
  {
   "cell_type": "code",
   "execution_count": 123,
   "id": "44b76762",
   "metadata": {},
   "outputs": [
    {
     "data": {
      "text/html": [
       "<div>\n",
       "<style scoped>\n",
       "    .dataframe tbody tr th:only-of-type {\n",
       "        vertical-align: middle;\n",
       "    }\n",
       "\n",
       "    .dataframe tbody tr th {\n",
       "        vertical-align: top;\n",
       "    }\n",
       "\n",
       "    .dataframe thead th {\n",
       "        text-align: right;\n",
       "    }\n",
       "</style>\n",
       "<table border=\"1\" class=\"dataframe\">\n",
       "  <thead>\n",
       "    <tr style=\"text-align: right;\">\n",
       "      <th></th>\n",
       "      <th>order_id</th>\n",
       "      <th>user_id</th>\n",
       "      <th>order_number</th>\n",
       "      <th>order_dow</th>\n",
       "      <th>order_hour_of_day</th>\n",
       "      <th>days_since_prior_order</th>\n",
       "      <th>product_id</th>\n",
       "      <th>add_to_cart_order</th>\n",
       "      <th>reordered</th>\n",
       "      <th>aisle_id</th>\n",
       "      <th>department_id</th>\n",
       "      <th>prices</th>\n",
       "      <th>max_orders</th>\n",
       "      <th>mean_price</th>\n",
       "      <th>since_priors_order_median</th>\n",
       "      <th>age</th>\n",
       "      <th>number_dependants</th>\n",
       "      <th>income</th>\n",
       "    </tr>\n",
       "  </thead>\n",
       "  <tbody>\n",
       "    <tr>\n",
       "      <th>count</th>\n",
       "      <td>3.240486e+07</td>\n",
       "      <td>3.240486e+07</td>\n",
       "      <td>3.240486e+07</td>\n",
       "      <td>3.240486e+07</td>\n",
       "      <td>3.240486e+07</td>\n",
       "      <td>3.032876e+07</td>\n",
       "      <td>3.240486e+07</td>\n",
       "      <td>3.240486e+07</td>\n",
       "      <td>3.240486e+07</td>\n",
       "      <td>3.240486e+07</td>\n",
       "      <td>3.240486e+07</td>\n",
       "      <td>3.240486e+07</td>\n",
       "      <td>3.240486e+07</td>\n",
       "      <td>3.240486e+07</td>\n",
       "      <td>3.240485e+07</td>\n",
       "      <td>3.240486e+07</td>\n",
       "      <td>3.240486e+07</td>\n",
       "      <td>3.240486e+07</td>\n",
       "    </tr>\n",
       "    <tr>\n",
       "      <th>mean</th>\n",
       "      <td>1.710745e+06</td>\n",
       "      <td>1.029372e+05</td>\n",
       "      <td>1.714230e+01</td>\n",
       "      <td>2.738867e+00</td>\n",
       "      <td>1.342515e+01</td>\n",
       "      <td>1.110408e+01</td>\n",
       "      <td>2.559866e+04</td>\n",
       "      <td>8.352547e+00</td>\n",
       "      <td>5.895873e-01</td>\n",
       "      <td>7.119612e+01</td>\n",
       "      <td>9.919792e+00</td>\n",
       "      <td>1.198023e+01</td>\n",
       "      <td>3.305217e+01</td>\n",
       "      <td>1.198023e+01</td>\n",
       "      <td>1.039776e+01</td>\n",
       "      <td>4.946527e+01</td>\n",
       "      <td>1.501896e+00</td>\n",
       "      <td>9.943773e+04</td>\n",
       "    </tr>\n",
       "    <tr>\n",
       "      <th>std</th>\n",
       "      <td>9.872988e+05</td>\n",
       "      <td>5.946610e+04</td>\n",
       "      <td>1.753532e+01</td>\n",
       "      <td>2.090077e+00</td>\n",
       "      <td>4.246380e+00</td>\n",
       "      <td>8.779064e+00</td>\n",
       "      <td>1.408400e+04</td>\n",
       "      <td>7.127071e+00</td>\n",
       "      <td>4.919087e-01</td>\n",
       "      <td>3.821139e+01</td>\n",
       "      <td>6.281485e+00</td>\n",
       "      <td>4.956554e+02</td>\n",
       "      <td>2.515525e+01</td>\n",
       "      <td>8.324227e+01</td>\n",
       "      <td>7.131754e+00</td>\n",
       "      <td>1.848558e+01</td>\n",
       "      <td>1.118865e+00</td>\n",
       "      <td>4.305727e+04</td>\n",
       "    </tr>\n",
       "    <tr>\n",
       "      <th>min</th>\n",
       "      <td>2.000000e+00</td>\n",
       "      <td>1.000000e+00</td>\n",
       "      <td>1.000000e+00</td>\n",
       "      <td>0.000000e+00</td>\n",
       "      <td>0.000000e+00</td>\n",
       "      <td>0.000000e+00</td>\n",
       "      <td>1.000000e+00</td>\n",
       "      <td>1.000000e+00</td>\n",
       "      <td>0.000000e+00</td>\n",
       "      <td>1.000000e+00</td>\n",
       "      <td>1.000000e+00</td>\n",
       "      <td>1.000000e+00</td>\n",
       "      <td>1.000000e+00</td>\n",
       "      <td>1.000000e+00</td>\n",
       "      <td>0.000000e+00</td>\n",
       "      <td>1.800000e+01</td>\n",
       "      <td>0.000000e+00</td>\n",
       "      <td>2.590300e+04</td>\n",
       "    </tr>\n",
       "    <tr>\n",
       "      <th>25%</th>\n",
       "      <td>8.559470e+05</td>\n",
       "      <td>5.142200e+04</td>\n",
       "      <td>5.000000e+00</td>\n",
       "      <td>1.000000e+00</td>\n",
       "      <td>1.000000e+01</td>\n",
       "      <td>5.000000e+00</td>\n",
       "      <td>1.354400e+04</td>\n",
       "      <td>3.000000e+00</td>\n",
       "      <td>0.000000e+00</td>\n",
       "      <td>3.100000e+01</td>\n",
       "      <td>4.000000e+00</td>\n",
       "      <td>4.200000e+00</td>\n",
       "      <td>1.300000e+01</td>\n",
       "      <td>7.387298e+00</td>\n",
       "      <td>6.000000e+00</td>\n",
       "      <td>3.300000e+01</td>\n",
       "      <td>1.000000e+00</td>\n",
       "      <td>6.700400e+04</td>\n",
       "    </tr>\n",
       "    <tr>\n",
       "      <th>50%</th>\n",
       "      <td>1.711049e+06</td>\n",
       "      <td>1.026160e+05</td>\n",
       "      <td>1.100000e+01</td>\n",
       "      <td>3.000000e+00</td>\n",
       "      <td>1.300000e+01</td>\n",
       "      <td>8.000000e+00</td>\n",
       "      <td>2.530200e+04</td>\n",
       "      <td>6.000000e+00</td>\n",
       "      <td>1.000000e+00</td>\n",
       "      <td>8.300000e+01</td>\n",
       "      <td>9.000000e+00</td>\n",
       "      <td>7.400000e+00</td>\n",
       "      <td>2.600000e+01</td>\n",
       "      <td>7.824786e+00</td>\n",
       "      <td>8.000000e+00</td>\n",
       "      <td>4.900000e+01</td>\n",
       "      <td>2.000000e+00</td>\n",
       "      <td>9.661800e+04</td>\n",
       "    </tr>\n",
       "    <tr>\n",
       "      <th>75%</th>\n",
       "      <td>2.565499e+06</td>\n",
       "      <td>1.543890e+05</td>\n",
       "      <td>2.400000e+01</td>\n",
       "      <td>5.000000e+00</td>\n",
       "      <td>1.600000e+01</td>\n",
       "      <td>1.500000e+01</td>\n",
       "      <td>3.794700e+04</td>\n",
       "      <td>1.100000e+01</td>\n",
       "      <td>1.000000e+00</td>\n",
       "      <td>1.070000e+02</td>\n",
       "      <td>1.600000e+01</td>\n",
       "      <td>1.130000e+01</td>\n",
       "      <td>4.700000e+01</td>\n",
       "      <td>8.254023e+00</td>\n",
       "      <td>1.300000e+01</td>\n",
       "      <td>6.500000e+01</td>\n",
       "      <td>3.000000e+00</td>\n",
       "      <td>1.279120e+05</td>\n",
       "    </tr>\n",
       "    <tr>\n",
       "      <th>max</th>\n",
       "      <td>3.421083e+06</td>\n",
       "      <td>2.062090e+05</td>\n",
       "      <td>9.900000e+01</td>\n",
       "      <td>6.000000e+00</td>\n",
       "      <td>2.300000e+01</td>\n",
       "      <td>3.000000e+01</td>\n",
       "      <td>4.968800e+04</td>\n",
       "      <td>1.450000e+02</td>\n",
       "      <td>1.000000e+00</td>\n",
       "      <td>1.340000e+02</td>\n",
       "      <td>2.100000e+01</td>\n",
       "      <td>9.999900e+04</td>\n",
       "      <td>9.900000e+01</td>\n",
       "      <td>2.500542e+04</td>\n",
       "      <td>3.000000e+01</td>\n",
       "      <td>8.100000e+01</td>\n",
       "      <td>3.000000e+00</td>\n",
       "      <td>5.939010e+05</td>\n",
       "    </tr>\n",
       "  </tbody>\n",
       "</table>\n",
       "</div>"
      ],
      "text/plain": [
       "           order_id       user_id  order_number     order_dow  \\\n",
       "count  3.240486e+07  3.240486e+07  3.240486e+07  3.240486e+07   \n",
       "mean   1.710745e+06  1.029372e+05  1.714230e+01  2.738867e+00   \n",
       "std    9.872988e+05  5.946610e+04  1.753532e+01  2.090077e+00   \n",
       "min    2.000000e+00  1.000000e+00  1.000000e+00  0.000000e+00   \n",
       "25%    8.559470e+05  5.142200e+04  5.000000e+00  1.000000e+00   \n",
       "50%    1.711049e+06  1.026160e+05  1.100000e+01  3.000000e+00   \n",
       "75%    2.565499e+06  1.543890e+05  2.400000e+01  5.000000e+00   \n",
       "max    3.421083e+06  2.062090e+05  9.900000e+01  6.000000e+00   \n",
       "\n",
       "       order_hour_of_day  days_since_prior_order    product_id  \\\n",
       "count       3.240486e+07            3.032876e+07  3.240486e+07   \n",
       "mean        1.342515e+01            1.110408e+01  2.559866e+04   \n",
       "std         4.246380e+00            8.779064e+00  1.408400e+04   \n",
       "min         0.000000e+00            0.000000e+00  1.000000e+00   \n",
       "25%         1.000000e+01            5.000000e+00  1.354400e+04   \n",
       "50%         1.300000e+01            8.000000e+00  2.530200e+04   \n",
       "75%         1.600000e+01            1.500000e+01  3.794700e+04   \n",
       "max         2.300000e+01            3.000000e+01  4.968800e+04   \n",
       "\n",
       "       add_to_cart_order     reordered      aisle_id  department_id  \\\n",
       "count       3.240486e+07  3.240486e+07  3.240486e+07   3.240486e+07   \n",
       "mean        8.352547e+00  5.895873e-01  7.119612e+01   9.919792e+00   \n",
       "std         7.127071e+00  4.919087e-01  3.821139e+01   6.281485e+00   \n",
       "min         1.000000e+00  0.000000e+00  1.000000e+00   1.000000e+00   \n",
       "25%         3.000000e+00  0.000000e+00  3.100000e+01   4.000000e+00   \n",
       "50%         6.000000e+00  1.000000e+00  8.300000e+01   9.000000e+00   \n",
       "75%         1.100000e+01  1.000000e+00  1.070000e+02   1.600000e+01   \n",
       "max         1.450000e+02  1.000000e+00  1.340000e+02   2.100000e+01   \n",
       "\n",
       "             prices    max_orders    mean_price  since_priors_order_median  \\\n",
       "count  3.240486e+07  3.240486e+07  3.240486e+07               3.240485e+07   \n",
       "mean   1.198023e+01  3.305217e+01  1.198023e+01               1.039776e+01   \n",
       "std    4.956554e+02  2.515525e+01  8.324227e+01               7.131754e+00   \n",
       "min    1.000000e+00  1.000000e+00  1.000000e+00               0.000000e+00   \n",
       "25%    4.200000e+00  1.300000e+01  7.387298e+00               6.000000e+00   \n",
       "50%    7.400000e+00  2.600000e+01  7.824786e+00               8.000000e+00   \n",
       "75%    1.130000e+01  4.700000e+01  8.254023e+00               1.300000e+01   \n",
       "max    9.999900e+04  9.900000e+01  2.500542e+04               3.000000e+01   \n",
       "\n",
       "                age  number_dependants        income  \n",
       "count  3.240486e+07       3.240486e+07  3.240486e+07  \n",
       "mean   4.946527e+01       1.501896e+00  9.943773e+04  \n",
       "std    1.848558e+01       1.118865e+00  4.305727e+04  \n",
       "min    1.800000e+01       0.000000e+00  2.590300e+04  \n",
       "25%    3.300000e+01       1.000000e+00  6.700400e+04  \n",
       "50%    4.900000e+01       2.000000e+00  9.661800e+04  \n",
       "75%    6.500000e+01       3.000000e+00  1.279120e+05  \n",
       "max    8.100000e+01       3.000000e+00  5.939010e+05  "
      ]
     },
     "execution_count": 123,
     "metadata": {},
     "output_type": "execute_result"
    }
   ],
   "source": [
    "df_ords_prods_custmrs.describe()"
   ]
  },
  {
   "cell_type": "code",
   "execution_count": 7,
   "id": "67771f46",
   "metadata": {},
   "outputs": [
    {
     "data": {
      "text/html": [
       "<div>\n",
       "<style scoped>\n",
       "    .dataframe tbody tr th:only-of-type {\n",
       "        vertical-align: middle;\n",
       "    }\n",
       "\n",
       "    .dataframe tbody tr th {\n",
       "        vertical-align: top;\n",
       "    }\n",
       "\n",
       "    .dataframe thead th {\n",
       "        text-align: right;\n",
       "    }\n",
       "</style>\n",
       "<table border=\"1\" class=\"dataframe\">\n",
       "  <thead>\n",
       "    <tr style=\"text-align: right;\">\n",
       "      <th></th>\n",
       "      <th>order_id</th>\n",
       "      <th>user_id</th>\n",
       "      <th>eval_set</th>\n",
       "      <th>order_number</th>\n",
       "      <th>order_dow</th>\n",
       "      <th>order_hour_of_day</th>\n",
       "      <th>days_since_prior_order</th>\n",
       "      <th>product_id</th>\n",
       "      <th>add_to_cart_order</th>\n",
       "      <th>reordered</th>\n",
       "      <th>...</th>\n",
       "      <th>ordering_frequency</th>\n",
       "      <th>first_name</th>\n",
       "      <th>surname</th>\n",
       "      <th>gender</th>\n",
       "      <th>state</th>\n",
       "      <th>age</th>\n",
       "      <th>registration_date</th>\n",
       "      <th>number_dependants</th>\n",
       "      <th>marital_status</th>\n",
       "      <th>income</th>\n",
       "    </tr>\n",
       "  </thead>\n",
       "  <tbody>\n",
       "    <tr>\n",
       "      <th>0</th>\n",
       "      <td>2539329</td>\n",
       "      <td>1</td>\n",
       "      <td>prior</td>\n",
       "      <td>1</td>\n",
       "      <td>2</td>\n",
       "      <td>8</td>\n",
       "      <td>NaN</td>\n",
       "      <td>196</td>\n",
       "      <td>1</td>\n",
       "      <td>0</td>\n",
       "      <td>...</td>\n",
       "      <td>Non-frequent customer</td>\n",
       "      <td>Linda</td>\n",
       "      <td>Nguyen</td>\n",
       "      <td>Female</td>\n",
       "      <td>Alabama</td>\n",
       "      <td>31</td>\n",
       "      <td>2/17/2019</td>\n",
       "      <td>3</td>\n",
       "      <td>married</td>\n",
       "      <td>40423</td>\n",
       "    </tr>\n",
       "    <tr>\n",
       "      <th>1</th>\n",
       "      <td>2398795</td>\n",
       "      <td>1</td>\n",
       "      <td>prior</td>\n",
       "      <td>2</td>\n",
       "      <td>3</td>\n",
       "      <td>7</td>\n",
       "      <td>15.0</td>\n",
       "      <td>196</td>\n",
       "      <td>1</td>\n",
       "      <td>1</td>\n",
       "      <td>...</td>\n",
       "      <td>Non-frequent customer</td>\n",
       "      <td>Linda</td>\n",
       "      <td>Nguyen</td>\n",
       "      <td>Female</td>\n",
       "      <td>Alabama</td>\n",
       "      <td>31</td>\n",
       "      <td>2/17/2019</td>\n",
       "      <td>3</td>\n",
       "      <td>married</td>\n",
       "      <td>40423</td>\n",
       "    </tr>\n",
       "    <tr>\n",
       "      <th>2</th>\n",
       "      <td>473747</td>\n",
       "      <td>1</td>\n",
       "      <td>prior</td>\n",
       "      <td>3</td>\n",
       "      <td>3</td>\n",
       "      <td>12</td>\n",
       "      <td>21.0</td>\n",
       "      <td>196</td>\n",
       "      <td>1</td>\n",
       "      <td>1</td>\n",
       "      <td>...</td>\n",
       "      <td>Non-frequent customer</td>\n",
       "      <td>Linda</td>\n",
       "      <td>Nguyen</td>\n",
       "      <td>Female</td>\n",
       "      <td>Alabama</td>\n",
       "      <td>31</td>\n",
       "      <td>2/17/2019</td>\n",
       "      <td>3</td>\n",
       "      <td>married</td>\n",
       "      <td>40423</td>\n",
       "    </tr>\n",
       "    <tr>\n",
       "      <th>3</th>\n",
       "      <td>2254736</td>\n",
       "      <td>1</td>\n",
       "      <td>prior</td>\n",
       "      <td>4</td>\n",
       "      <td>4</td>\n",
       "      <td>7</td>\n",
       "      <td>29.0</td>\n",
       "      <td>196</td>\n",
       "      <td>1</td>\n",
       "      <td>1</td>\n",
       "      <td>...</td>\n",
       "      <td>Non-frequent customer</td>\n",
       "      <td>Linda</td>\n",
       "      <td>Nguyen</td>\n",
       "      <td>Female</td>\n",
       "      <td>Alabama</td>\n",
       "      <td>31</td>\n",
       "      <td>2/17/2019</td>\n",
       "      <td>3</td>\n",
       "      <td>married</td>\n",
       "      <td>40423</td>\n",
       "    </tr>\n",
       "    <tr>\n",
       "      <th>4</th>\n",
       "      <td>431534</td>\n",
       "      <td>1</td>\n",
       "      <td>prior</td>\n",
       "      <td>5</td>\n",
       "      <td>4</td>\n",
       "      <td>15</td>\n",
       "      <td>28.0</td>\n",
       "      <td>196</td>\n",
       "      <td>1</td>\n",
       "      <td>1</td>\n",
       "      <td>...</td>\n",
       "      <td>Non-frequent customer</td>\n",
       "      <td>Linda</td>\n",
       "      <td>Nguyen</td>\n",
       "      <td>Female</td>\n",
       "      <td>Alabama</td>\n",
       "      <td>31</td>\n",
       "      <td>2/17/2019</td>\n",
       "      <td>3</td>\n",
       "      <td>married</td>\n",
       "      <td>40423</td>\n",
       "    </tr>\n",
       "  </tbody>\n",
       "</table>\n",
       "<p>5 rows × 35 columns</p>\n",
       "</div>"
      ],
      "text/plain": [
       "   order_id  user_id eval_set  order_number  order_dow  order_hour_of_day  \\\n",
       "0   2539329        1    prior             1          2                  8   \n",
       "1   2398795        1    prior             2          3                  7   \n",
       "2    473747        1    prior             3          3                 12   \n",
       "3   2254736        1    prior             4          4                  7   \n",
       "4    431534        1    prior             5          4                 15   \n",
       "\n",
       "   days_since_prior_order  product_id  add_to_cart_order  reordered  ...  \\\n",
       "0                     NaN         196                  1          0  ...   \n",
       "1                    15.0         196                  1          1  ...   \n",
       "2                    21.0         196                  1          1  ...   \n",
       "3                    29.0         196                  1          1  ...   \n",
       "4                    28.0         196                  1          1  ...   \n",
       "\n",
       "      ordering_frequency first_name  surname  gender    state age  \\\n",
       "0  Non-frequent customer      Linda   Nguyen  Female  Alabama  31   \n",
       "1  Non-frequent customer      Linda   Nguyen  Female  Alabama  31   \n",
       "2  Non-frequent customer      Linda   Nguyen  Female  Alabama  31   \n",
       "3  Non-frequent customer      Linda   Nguyen  Female  Alabama  31   \n",
       "4  Non-frequent customer      Linda   Nguyen  Female  Alabama  31   \n",
       "\n",
       "  registration_date number_dependants marital_status income  \n",
       "0         2/17/2019                 3        married  40423  \n",
       "1         2/17/2019                 3        married  40423  \n",
       "2         2/17/2019                 3        married  40423  \n",
       "3         2/17/2019                 3        married  40423  \n",
       "4         2/17/2019                 3        married  40423  \n",
       "\n",
       "[5 rows x 35 columns]"
      ]
     },
     "execution_count": 7,
     "metadata": {},
     "output_type": "execute_result"
    }
   ],
   "source": [
    "df_ords_prods_custmrs.head()"
   ]
  },
  {
   "cell_type": "code",
   "execution_count": 8,
   "id": "46abd064",
   "metadata": {},
   "outputs": [],
   "source": [
    "# dropping unnecessary columns which remained from the previous analysis\n",
    "df_ords_prods_custmrs = df_ords_prods_custmrs.drop(columns=['Unnamed: 0', 'eval_set', '_merge'])"
   ]
  },
  {
   "cell_type": "code",
   "execution_count": 124,
   "id": "1ac58caf",
   "metadata": {},
   "outputs": [
    {
     "name": "stdout",
     "output_type": "stream",
     "text": [
      "<class 'pandas.core.frame.DataFrame'>\n",
      "Int64Index: 32404859 entries, 0 to 32404858\n",
      "Data columns (total 35 columns):\n",
      " #   Column                                  Dtype  \n",
      "---  ------                                  -----  \n",
      " 0   order_id                                int64  \n",
      " 1   user_id                                 int64  \n",
      " 2   order_number                            int64  \n",
      " 3   order_dow                               int64  \n",
      " 4   order_hour_of_day                       int64  \n",
      " 5   days_since_prior_order                  float64\n",
      " 6   product_id                              int64  \n",
      " 7   add_to_cart_order                       int64  \n",
      " 8   reordered                               int64  \n",
      " 9   product_name                            object \n",
      " 10  aisle_id                                int64  \n",
      " 11  department_id                           int64  \n",
      " 12  prices                                  float64\n",
      " 13  price_range_loc                         object \n",
      " 14  busiest_day                             object \n",
      " 15  busiest_days_new                        object \n",
      " 16  busiest_hours                           object \n",
      " 17  max_orders                              int64  \n",
      " 18  customers_loyalty                       object \n",
      " 19  mean_price                              float64\n",
      " 20  spending_characteristic                 object \n",
      " 21  since_priors_order_median               float64\n",
      " 22  ordering_frequency                      object \n",
      " 23  gender                                  object \n",
      " 24  state                                   object \n",
      " 25  age                                     int64  \n",
      " 26  registration_date                       object \n",
      " 27  number_dependants                       int64  \n",
      " 28  marital_status                          object \n",
      " 29  income                                  int64  \n",
      " 30  us_region                               object \n",
      " 31  exclusion_column_less_than_five_orders  object \n",
      " 32  age_category                            object \n",
      " 33  income_category                         object \n",
      " 34  fam_size                                object \n",
      "dtypes: float64(4), int64(14), object(17)\n",
      "memory usage: 8.7+ GB\n"
     ]
    }
   ],
   "source": [
    "# checking if the columns were dropped\n",
    "df_ords_prods_custmrs.info()"
   ]
  },
  {
   "cell_type": "code",
   "execution_count": 10,
   "id": "7534d7a8",
   "metadata": {},
   "outputs": [],
   "source": [
    "# dropping first and last name due to GDPR reasons\n",
    "df_ords_prods_custmrs = df_ords_prods_custmrs.drop(columns=['first_name', 'surname'])"
   ]
  },
  {
   "cell_type": "markdown",
   "id": "d1ff3f9e",
   "metadata": {},
   "source": [
    "#### The Instacart officers are interested in comparing customer behavior in different geographic areas. Create a regional segmentation of the data. You’ll need to create a “Region” column based on the “State” column from your customers data set.\n",
    "#### Use the region information in this Wikipedia article to create your column (you only need to create regions, not divisions).\n"
   ]
  },
  {
   "cell_type": "code",
   "execution_count": 125,
   "id": "aae84435",
   "metadata": {
    "scrolled": true
   },
   "outputs": [
    {
     "data": {
      "text/plain": [
       "Alabama                 638003\n",
       "Alaska                  648495\n",
       "Arizona                 653964\n",
       "Arkansas                636144\n",
       "California              659783\n",
       "Colorado                639280\n",
       "Connecticut             623022\n",
       "Delaware                637024\n",
       "District of Columbia    613695\n",
       "Florida                 629027\n",
       "Georgia                 656389\n",
       "Hawaii                  632901\n",
       "Idaho                   607119\n",
       "Illinois                633024\n",
       "Indiana                 627282\n",
       "Iowa                    625493\n",
       "Kansas                  637538\n",
       "Kentucky                632490\n",
       "Louisiana               637482\n",
       "Maine                   638583\n",
       "Maryland                626579\n",
       "Massachusetts           646358\n",
       "Michigan                630928\n",
       "Minnesota               647825\n",
       "Mississippi             632675\n",
       "Missouri                640732\n",
       "Montana                 635265\n",
       "Nebraska                625813\n",
       "Nevada                  636139\n",
       "New Hampshire           615378\n",
       "New Jersey              627692\n",
       "New Mexico              654494\n",
       "New York                635983\n",
       "North Carolina          651900\n",
       "North Dakota            638491\n",
       "Ohio                    628319\n",
       "Oklahoma                651739\n",
       "Oregon                  636425\n",
       "Pennsylvania            667082\n",
       "Rhode Island            656913\n",
       "South Carolina          636754\n",
       "South Dakota            633772\n",
       "Tennessee               617873\n",
       "Texas                   640394\n",
       "Utah                    611941\n",
       "Vermont                 611725\n",
       "Virginia                641421\n",
       "Washington              632852\n",
       "West Virginia           612296\n",
       "Wisconsin               628108\n",
       "Wyoming                 644255\n",
       "Name: state, dtype: int64"
      ]
     },
     "execution_count": 125,
     "metadata": {},
     "output_type": "execute_result"
    }
   ],
   "source": [
    "# checking how the states are spelled in the data frame so that we can copy them into the regions creteria \n",
    "df_ords_prods_custmrs['state'].value_counts().sort_index()"
   ]
  },
  {
   "cell_type": "code",
   "execution_count": 12,
   "id": "6c8d1a76",
   "metadata": {},
   "outputs": [
    {
     "data": {
      "text/plain": [
       "51"
      ]
     },
     "execution_count": 12,
     "metadata": {},
     "output_type": "execute_result"
    }
   ],
   "source": [
    "# checking if all the states from the list are in the data set\n",
    "df_ords_prods_custmrs['state'].nunique()"
   ]
  },
  {
   "cell_type": "code",
   "execution_count": 13,
   "id": "bbfdc286",
   "metadata": {},
   "outputs": [],
   "source": [
    "# separating states into regions\n",
    "\n",
    "northeast_region = ['Maine','New Hampshire','Vermont','Massachusetts','Rhode Island','Connecticut','New York','Pennsylvania',\n",
    "             'New Jersey']\n",
    "midwest_region = ['Wisconsin','Michigan','Illinois','Indiana','Ohio','North Dakota','South Dakota','Nebraska',\n",
    "                  'Kansas','Minnesota','Iowa','Missouri']\n",
    "south_region = ['Delaware','Maryland','District of Columbia','Virginia','West Virginia','North Carolina',\n",
    "                'South Carolina','Georgia','Florida','Kentucky', 'Tennessee','Mississippi','Alabama',\n",
    "                'Oklahoma','Texas','Arkansas','Louisiana']\n",
    "west_region = ['Idaho','Montana','Wyoming','Nevada','Utah','Colorado','Arizona','New Mexico','Alaska',\n",
    "               'Washington','Oregon','California','Hawaii']"
   ]
  },
  {
   "cell_type": "code",
   "execution_count": 14,
   "id": "9b88cc6f",
   "metadata": {},
   "outputs": [],
   "source": [
    "# northeast_region\n",
    "df_ords_prods_custmrs.loc[df_ords_prods_custmrs['state'].isin(northeast_region), 'us_region'] = 'northeast_region'\n"
   ]
  },
  {
   "cell_type": "code",
   "execution_count": 15,
   "id": "892848bd",
   "metadata": {},
   "outputs": [],
   "source": [
    "# midwest_region\n",
    "df_ords_prods_custmrs.loc[df_ords_prods_custmrs['state'].isin(midwest_region), 'us_region'] = 'midwest_region'\n"
   ]
  },
  {
   "cell_type": "code",
   "execution_count": 16,
   "id": "cf21bf54",
   "metadata": {},
   "outputs": [],
   "source": [
    "# south_region\n",
    "df_ords_prods_custmrs.loc[df_ords_prods_custmrs['state'].isin(south_region), 'us_region'] = 'south_region'\n"
   ]
  },
  {
   "cell_type": "code",
   "execution_count": 17,
   "id": "156a4d66",
   "metadata": {},
   "outputs": [],
   "source": [
    "# west_region\n",
    "df_ords_prods_custmrs.loc[df_ords_prods_custmrs['state'].isin(west_region), 'us_region'] = 'west_region'"
   ]
  },
  {
   "cell_type": "code",
   "execution_count": 18,
   "id": "b3d03ef2",
   "metadata": {},
   "outputs": [
    {
     "data": {
      "text/plain": [
       "4"
      ]
     },
     "execution_count": 18,
     "metadata": {},
     "output_type": "execute_result"
    }
   ],
   "source": [
    "# checking if the new column was added and if there are any NaN or Null values\n",
    "df_ords_prods_custmrs['us_region'].nunique(dropna = False)"
   ]
  },
  {
   "cell_type": "markdown",
   "id": "6834d433",
   "metadata": {},
   "source": [
    "#### Determine whether there’s a difference in spending habits between the different U.S. regions. (Hint: You can do this by crossing the variable you just created with the spending flag.)"
   ]
  },
  {
   "cell_type": "code",
   "execution_count": 19,
   "id": "cfcdcf57",
   "metadata": {},
   "outputs": [
    {
     "data": {
      "text/plain": [
       "Low spender     31770614\n",
       "High spender      634245\n",
       "Name: spending_characteristic, dtype: int64"
      ]
     },
     "execution_count": 19,
     "metadata": {},
     "output_type": "execute_result"
    }
   ],
   "source": [
    "df_ords_prods_custmrs['spending_characteristic'].value_counts()"
   ]
  },
  {
   "cell_type": "code",
   "execution_count": 20,
   "id": "c2d484f7",
   "metadata": {},
   "outputs": [
    {
     "data": {
      "text/plain": [
       "south_region        10791885\n",
       "west_region          8292913\n",
       "midwest_region       7597325\n",
       "northeast_region     5722736\n",
       "Name: us_region, dtype: int64"
      ]
     },
     "execution_count": 20,
     "metadata": {},
     "output_type": "execute_result"
    }
   ],
   "source": [
    "df_ords_prods_custmrs['us_region'].value_counts()"
   ]
  },
  {
   "cell_type": "code",
   "execution_count": 21,
   "id": "d8b47fb1",
   "metadata": {},
   "outputs": [],
   "source": [
    "df_region_spending = df_ords_prods_custmrs.groupby(['us_region', 'spending_characteristic']).size().reset_index(name='count')"
   ]
  },
  {
   "cell_type": "code",
   "execution_count": 22,
   "id": "db119b0e",
   "metadata": {},
   "outputs": [
    {
     "data": {
      "text/html": [
       "<div>\n",
       "<style scoped>\n",
       "    .dataframe tbody tr th:only-of-type {\n",
       "        vertical-align: middle;\n",
       "    }\n",
       "\n",
       "    .dataframe tbody tr th {\n",
       "        vertical-align: top;\n",
       "    }\n",
       "\n",
       "    .dataframe thead th {\n",
       "        text-align: right;\n",
       "    }\n",
       "</style>\n",
       "<table border=\"1\" class=\"dataframe\">\n",
       "  <thead>\n",
       "    <tr style=\"text-align: right;\">\n",
       "      <th></th>\n",
       "      <th>us_region</th>\n",
       "      <th>spending_characteristic</th>\n",
       "      <th>count</th>\n",
       "    </tr>\n",
       "  </thead>\n",
       "  <tbody>\n",
       "    <tr>\n",
       "      <th>5</th>\n",
       "      <td>south_region</td>\n",
       "      <td>Low spender</td>\n",
       "      <td>10582194</td>\n",
       "    </tr>\n",
       "    <tr>\n",
       "      <th>7</th>\n",
       "      <td>west_region</td>\n",
       "      <td>Low spender</td>\n",
       "      <td>8132559</td>\n",
       "    </tr>\n",
       "    <tr>\n",
       "      <th>1</th>\n",
       "      <td>midwest_region</td>\n",
       "      <td>Low spender</td>\n",
       "      <td>7441350</td>\n",
       "    </tr>\n",
       "    <tr>\n",
       "      <th>3</th>\n",
       "      <td>northeast_region</td>\n",
       "      <td>Low spender</td>\n",
       "      <td>5614511</td>\n",
       "    </tr>\n",
       "    <tr>\n",
       "      <th>4</th>\n",
       "      <td>south_region</td>\n",
       "      <td>High spender</td>\n",
       "      <td>209691</td>\n",
       "    </tr>\n",
       "    <tr>\n",
       "      <th>6</th>\n",
       "      <td>west_region</td>\n",
       "      <td>High spender</td>\n",
       "      <td>160354</td>\n",
       "    </tr>\n",
       "    <tr>\n",
       "      <th>0</th>\n",
       "      <td>midwest_region</td>\n",
       "      <td>High spender</td>\n",
       "      <td>155975</td>\n",
       "    </tr>\n",
       "    <tr>\n",
       "      <th>2</th>\n",
       "      <td>northeast_region</td>\n",
       "      <td>High spender</td>\n",
       "      <td>108225</td>\n",
       "    </tr>\n",
       "  </tbody>\n",
       "</table>\n",
       "</div>"
      ],
      "text/plain": [
       "          us_region spending_characteristic     count\n",
       "5      south_region             Low spender  10582194\n",
       "7       west_region             Low spender   8132559\n",
       "1    midwest_region             Low spender   7441350\n",
       "3  northeast_region             Low spender   5614511\n",
       "4      south_region            High spender    209691\n",
       "6       west_region            High spender    160354\n",
       "0    midwest_region            High spender    155975\n",
       "2  northeast_region            High spender    108225"
      ]
     },
     "execution_count": 22,
     "metadata": {},
     "output_type": "execute_result"
    }
   ],
   "source": [
    "df_region_spending.head(8).sort_values(by='count', ascending=False)"
   ]
  },
  {
   "cell_type": "markdown",
   "id": "b956deff",
   "metadata": {},
   "source": [
    "#### As we can see northeast has the least amount of high spenders. South region is leading in amount of customers (both low and high spenders) There is clear correlation between population of each region and amount of customers. the rest information can be seen in the table "
   ]
  },
  {
   "cell_type": "markdown",
   "id": "daa570c6",
   "metadata": {},
   "source": [
    "###"
   ]
  },
  {
   "cell_type": "markdown",
   "id": "c70cf8a1",
   "metadata": {},
   "source": [
    "### The Instacart CFO isn’t interested in customers who don’t generate much revenue for the app. Create an exclusion flag for low-activity customers (customers with less than 5 orders) and exclude them from the data. Make sure you export this sample."
   ]
  },
  {
   "cell_type": "code",
   "execution_count": 23,
   "id": "d896ac8d",
   "metadata": {},
   "outputs": [],
   "source": [
    "# creating shell that we can use as a new column for exclusion.\n",
    "result_less_than_five_orders = []\n",
    "\n",
    "for value in df_ords_prods_custmrs['max_orders']:\n",
    "  if value < 5:\n",
    "    result_less_than_five_orders.append('exclude')\n",
    "  elif value >= 5:\n",
    "    result_less_than_five_orders.append('keep')\n",
    "  else:\n",
    "    result_busiest_days.append('not available')\n",
    "      \n",
    "    \n",
    "    "
   ]
  },
  {
   "cell_type": "code",
   "execution_count": 24,
   "id": "5c3a12b7",
   "metadata": {},
   "outputs": [],
   "source": [
    "# adding new column based on the shell\n",
    "df_ords_prods_custmrs['exclusion_column_less_than_five_orders'] = result_less_than_five_orders"
   ]
  },
  {
   "cell_type": "code",
   "execution_count": 25,
   "id": "07fa3df0",
   "metadata": {},
   "outputs": [
    {
     "data": {
      "text/plain": [
       "keep       30964564\n",
       "exclude     1440295\n",
       "Name: exclusion_column_less_than_five_orders, dtype: int64"
      ]
     },
     "execution_count": 25,
     "metadata": {},
     "output_type": "execute_result"
    }
   ],
   "source": [
    "# checking if the new column was added\n",
    "df_ords_prods_custmrs['exclusion_column_less_than_five_orders'].value_counts(dropna = False)"
   ]
  },
  {
   "cell_type": "code",
   "execution_count": 26,
   "id": "aaae0a79",
   "metadata": {},
   "outputs": [],
   "source": [
    "# creating new data set without customers with total less than 5 orders\n",
    "df_ords_prods_custmrs_more_than_five_orders = df_ords_prods_custmrs[df_ords_prods_custmrs['exclusion_column_less_than_five_orders'] == 'keep']"
   ]
  },
  {
   "cell_type": "code",
   "execution_count": 27,
   "id": "f51084dd",
   "metadata": {},
   "outputs": [],
   "source": [
    "# dropping indicator column of the new data set to save memory\n",
    "df_ords_prods_custmrs_more_than_five_orders = df_ords_prods_custmrs_more_than_five_orders.drop(columns=['exclusion_column_less_than_five_orders'])"
   ]
  },
  {
   "cell_type": "code",
   "execution_count": 28,
   "id": "d5d6e489",
   "metadata": {},
   "outputs": [
    {
     "name": "stdout",
     "output_type": "stream",
     "text": [
      "<class 'pandas.core.frame.DataFrame'>\n",
      "Int64Index: 30964564 entries, 0 to 32404854\n",
      "Data columns (total 31 columns):\n",
      " #   Column                     Dtype  \n",
      "---  ------                     -----  \n",
      " 0   order_id                   int64  \n",
      " 1   user_id                    int64  \n",
      " 2   order_number               int64  \n",
      " 3   order_dow                  int64  \n",
      " 4   order_hour_of_day          int64  \n",
      " 5   days_since_prior_order     float64\n",
      " 6   product_id                 int64  \n",
      " 7   add_to_cart_order          int64  \n",
      " 8   reordered                  int64  \n",
      " 9   product_name               object \n",
      " 10  aisle_id                   int64  \n",
      " 11  department_id              int64  \n",
      " 12  prices                     float64\n",
      " 13  price_range_loc            object \n",
      " 14  busiest_day                object \n",
      " 15  busiest_days_new           object \n",
      " 16  busiest_hours              object \n",
      " 17  max_orders                 int64  \n",
      " 18  customers_loyalty          object \n",
      " 19  mean_price                 float64\n",
      " 20  spending_characteristic    object \n",
      " 21  since_priors_order_median  float64\n",
      " 22  ordering_frequency         object \n",
      " 23  gender                     object \n",
      " 24  state                      object \n",
      " 25  age                        int64  \n",
      " 26  registration_date          object \n",
      " 27  number_dependants          int64  \n",
      " 28  marital_status             object \n",
      " 29  income                     int64  \n",
      " 30  us_region                  object \n",
      "dtypes: float64(4), int64(14), object(13)\n",
      "memory usage: 7.4+ GB\n"
     ]
    }
   ],
   "source": [
    "# checking new subset \n",
    "df_ords_prods_custmrs_more_than_five_orders.info()"
   ]
  },
  {
   "cell_type": "code",
   "execution_count": 29,
   "id": "fd6a7ab9",
   "metadata": {},
   "outputs": [],
   "source": [
    "# exporting new subset as a pickle\n",
    "df_ords_prods_custmrs_more_than_five_orders.to_pickle(os.path.join(path,'02 Data','Prepared Data','Task.4.10.less_than_5_orders_subset.pkl'))"
   ]
  },
  {
   "cell_type": "code",
   "execution_count": null,
   "id": "7293e7e9",
   "metadata": {},
   "outputs": [],
   "source": []
  },
  {
   "cell_type": "markdown",
   "id": "567be72d",
   "metadata": {},
   "source": [
    "### The marketing and business strategy units at Instacart want to create more-relevant marketing strategies for different products and are, thus, curious about customer profiling in their database. Create a profiling variable based on age, income, certain goods in the “department_id” column, and number of dependents. You might also use the “orders_day_of_the_week” and “order_hour_of_day” columns if you can think of a way they would impact customer profiles. (Hint: As an example, try thinking of what characteristics would lead you to the profile “Single adult” or “Young parent.”)"
   ]
  },
  {
   "cell_type": "code",
   "execution_count": null,
   "id": "1689f7b8",
   "metadata": {},
   "outputs": [],
   "source": []
  },
  {
   "cell_type": "markdown",
   "id": "359586c4",
   "metadata": {},
   "source": [
    "#### age profiling and insights"
   ]
  },
  {
   "cell_type": "code",
   "execution_count": 30,
   "id": "0908368e",
   "metadata": {},
   "outputs": [
    {
     "data": {
      "text/plain": [
       "18"
      ]
     },
     "execution_count": 30,
     "metadata": {},
     "output_type": "execute_result"
    }
   ],
   "source": [
    "# checking values of age in the data set\n",
    "df_ords_prods_custmrs['age'].min()"
   ]
  },
  {
   "cell_type": "code",
   "execution_count": 31,
   "id": "e053fdd2",
   "metadata": {},
   "outputs": [
    {
     "data": {
      "text/plain": [
       "49.465269853511785"
      ]
     },
     "execution_count": 31,
     "metadata": {},
     "output_type": "execute_result"
    }
   ],
   "source": [
    "df_ords_prods_custmrs['age'].mean()"
   ]
  },
  {
   "cell_type": "code",
   "execution_count": 32,
   "id": "68f48ffd",
   "metadata": {},
   "outputs": [
    {
     "data": {
      "text/plain": [
       "49.0"
      ]
     },
     "execution_count": 32,
     "metadata": {},
     "output_type": "execute_result"
    }
   ],
   "source": [
    "df_ords_prods_custmrs['age'].median()"
   ]
  },
  {
   "cell_type": "code",
   "execution_count": 33,
   "id": "0aab6bed",
   "metadata": {
    "scrolled": true
   },
   "outputs": [
    {
     "data": {
      "text/plain": [
       "81"
      ]
     },
     "execution_count": 33,
     "metadata": {},
     "output_type": "execute_result"
    }
   ],
   "source": [
    "df_ords_prods_custmrs['age'].max()"
   ]
  },
  {
   "cell_type": "code",
   "execution_count": 34,
   "id": "48aaffe4",
   "metadata": {},
   "outputs": [
    {
     "data": {
      "text/plain": [
       "33.0"
      ]
     },
     "execution_count": 34,
     "metadata": {},
     "output_type": "execute_result"
    }
   ],
   "source": [
    "df_ords_prods_custmrs['age'].quantile(0.25)"
   ]
  },
  {
   "cell_type": "code",
   "execution_count": 35,
   "id": "fe7e5141",
   "metadata": {},
   "outputs": [
    {
     "data": {
      "text/plain": [
       "49.0"
      ]
     },
     "execution_count": 35,
     "metadata": {},
     "output_type": "execute_result"
    }
   ],
   "source": [
    "df_ords_prods_custmrs['age'].quantile(0.50)"
   ]
  },
  {
   "cell_type": "code",
   "execution_count": 36,
   "id": "2dc13e62",
   "metadata": {},
   "outputs": [
    {
     "data": {
      "text/plain": [
       "65.0"
      ]
     },
     "execution_count": 36,
     "metadata": {},
     "output_type": "execute_result"
    }
   ],
   "source": [
    "df_ords_prods_custmrs['age'].quantile(0.75)"
   ]
  },
  {
   "cell_type": "code",
   "execution_count": 37,
   "id": "e5cd9e23",
   "metadata": {},
   "outputs": [],
   "source": [
    "# creating shell for the new column    \n",
    "result_customer_age_profile = []\n",
    "for value in df_ords_prods_custmrs['age']:\n",
    "  if value >= 18 and value <33:\n",
    "    result_customer_age_profile.append('young')\n",
    "  elif value >= 33 and value <65:\n",
    "    result_customer_age_profile.append('middle')\n",
    "  elif value >= 65:\n",
    "    result_customer_age_profile.append('old')\n",
    "  else:\n",
    "    result_customer_age_profile.append('not available')"
   ]
  },
  {
   "cell_type": "code",
   "execution_count": 38,
   "id": "a9a6142e",
   "metadata": {},
   "outputs": [],
   "source": [
    "# creating new column based on the created shell\n",
    "df_ords_prods_custmrs['age_category'] = result_customer_age_profile"
   ]
  },
  {
   "cell_type": "code",
   "execution_count": 126,
   "id": "72c84df6",
   "metadata": {},
   "outputs": [
    {
     "name": "stdout",
     "output_type": "stream",
     "text": [
      "<class 'pandas.core.frame.DataFrame'>\n",
      "Int64Index: 32404859 entries, 0 to 32404858\n",
      "Data columns (total 35 columns):\n",
      " #   Column                                  Dtype  \n",
      "---  ------                                  -----  \n",
      " 0   order_id                                int64  \n",
      " 1   user_id                                 int64  \n",
      " 2   order_number                            int64  \n",
      " 3   order_dow                               int64  \n",
      " 4   order_hour_of_day                       int64  \n",
      " 5   days_since_prior_order                  float64\n",
      " 6   product_id                              int64  \n",
      " 7   add_to_cart_order                       int64  \n",
      " 8   reordered                               int64  \n",
      " 9   product_name                            object \n",
      " 10  aisle_id                                int64  \n",
      " 11  department_id                           int64  \n",
      " 12  prices                                  float64\n",
      " 13  price_range_loc                         object \n",
      " 14  busiest_day                             object \n",
      " 15  busiest_days_new                        object \n",
      " 16  busiest_hours                           object \n",
      " 17  max_orders                              int64  \n",
      " 18  customers_loyalty                       object \n",
      " 19  mean_price                              float64\n",
      " 20  spending_characteristic                 object \n",
      " 21  since_priors_order_median               float64\n",
      " 22  ordering_frequency                      object \n",
      " 23  gender                                  object \n",
      " 24  state                                   object \n",
      " 25  age                                     int64  \n",
      " 26  registration_date                       object \n",
      " 27  number_dependants                       int64  \n",
      " 28  marital_status                          object \n",
      " 29  income                                  int64  \n",
      " 30  us_region                               object \n",
      " 31  exclusion_column_less_than_five_orders  object \n",
      " 32  age_category                            object \n",
      " 33  income_category                         object \n",
      " 34  fam_size                                object \n",
      "dtypes: float64(4), int64(14), object(17)\n",
      "memory usage: 8.7+ GB\n"
     ]
    }
   ],
   "source": [
    "# checking if the column was created\n",
    "df_ords_prods_custmrs.info()"
   ]
  },
  {
   "cell_type": "code",
   "execution_count": 40,
   "id": "186174af",
   "metadata": {
    "scrolled": true
   },
   "outputs": [
    {
     "data": {
      "text/plain": [
       "middle    16203962\n",
       "old        8575084\n",
       "young      7625813\n",
       "Name: age_category, dtype: int64"
      ]
     },
     "execution_count": 40,
     "metadata": {},
     "output_type": "execute_result"
    }
   ],
   "source": [
    "# checking amount per category as well as if there are no NaN\n",
    "df_ords_prods_custmrs['age_category'].value_counts(dropna = False)"
   ]
  },
  {
   "cell_type": "code",
   "execution_count": 41,
   "id": "579ad155",
   "metadata": {
    "scrolled": true
   },
   "outputs": [
    {
     "data": {
      "image/png": "[encoded data removed]",
      "text/plain": [
       "<Figure size 640x480 with 1 Axes>"
      ]
     },
     "metadata": {},
     "output_type": "display_data"
    }
   ],
   "source": [
    "# creating bar chart for northeast_region age category\n",
    "bar_chart_northeast_region_age_category = df_ords_prods_custmrs[df_ords_prods_custmrs['us_region'] == 'northeast_region']['age_category'].value_counts().plot.bar()"
   ]
  },
  {
   "cell_type": "code",
   "execution_count": 42,
   "id": "8d6636ee",
   "metadata": {},
   "outputs": [
    {
     "data": {
      "image/png": "[encoded data removed]",
      "text/plain": [
       "<Figure size 640x480 with 1 Axes>"
      ]
     },
     "metadata": {},
     "output_type": "display_data"
    }
   ],
   "source": [
    "# creating bar chart for midwest_region age category\n",
    "bar_chart_midwest_region_age_category = df_ords_prods_custmrs[df_ords_prods_custmrs['us_region'] == 'midwest_region']['age_category'].value_counts().plot.bar()"
   ]
  },
  {
   "cell_type": "code",
   "execution_count": 43,
   "id": "ac51588d",
   "metadata": {
    "scrolled": true
   },
   "outputs": [
    {
     "data": {
      "image/png": "[encoded data removed]",
      "text/plain": [
       "<Figure size 640x480 with 1 Axes>"
      ]
     },
     "metadata": {},
     "output_type": "display_data"
    }
   ],
   "source": [
    "# creating bar chart for south_region age category \n",
    "bar_chart_south_region_age_category = df_ords_prods_custmrs[df_ords_prods_custmrs['us_region'] == 'south_region']['age_category'].value_counts().plot.bar()"
   ]
  },
  {
   "cell_type": "code",
   "execution_count": 44,
   "id": "6be47576",
   "metadata": {
    "scrolled": false
   },
   "outputs": [
    {
     "data": {
      "image/png": "[encoded data removed]",
      "text/plain": [
       "<Figure size 640x480 with 1 Axes>"
      ]
     },
     "metadata": {},
     "output_type": "display_data"
    }
   ],
   "source": [
    "# creating bar chart for west_region age category  \n",
    "bar_chart_west_region_age_category = df_ords_prods_custmrs[df_ords_prods_custmrs['us_region'] == 'west_region']['age_category'].value_counts().plot.bar()"
   ]
  },
  {
   "cell_type": "code",
   "execution_count": null,
   "id": "2a610a19",
   "metadata": {},
   "outputs": [],
   "source": []
  },
  {
   "cell_type": "code",
   "execution_count": 45,
   "id": "254a82ec",
   "metadata": {},
   "outputs": [],
   "source": [
    "# saving all bar charts\n",
    "bar_chart_northeast_region_age_category.figure.savefig(os.path.join(path, '04 Analysis','Visualizations', '4.10. visualization', 'region and age category','northeast_age.png'))"
   ]
  },
  {
   "cell_type": "code",
   "execution_count": 46,
   "id": "fc9b2843",
   "metadata": {},
   "outputs": [],
   "source": [
    "bar_chart_midwest_region_age_category.figure.savefig(os.path.join(path, '04 Analysis','Visualizations', '4.10. visualization', 'region and age category','midwest_age.png'))"
   ]
  },
  {
   "cell_type": "code",
   "execution_count": 47,
   "id": "2563f824",
   "metadata": {},
   "outputs": [],
   "source": [
    "bar_chart_south_region_age_category.figure.savefig(os.path.join(path, '04 Analysis','Visualizations', '4.10. visualization', 'region and age category','south_age.png'))"
   ]
  },
  {
   "cell_type": "code",
   "execution_count": 48,
   "id": "72e94eac",
   "metadata": {},
   "outputs": [],
   "source": [
    "bar_chart_west_region_age_category.figure.savefig(os.path.join(path, '04 Analysis','Visualizations', '4.10. visualization', 'region and age category','west_age.png'))"
   ]
  },
  {
   "cell_type": "markdown",
   "id": "1839423c",
   "metadata": {},
   "source": []
  },
  {
   "cell_type": "code",
   "execution_count": 49,
   "id": "514d3fd2",
   "metadata": {},
   "outputs": [
    {
     "data": {
      "text/plain": [
       "middle    2819419\n",
       "old       1553903\n",
       "young     1349414\n",
       "Name: age_category, dtype: int64"
      ]
     },
     "execution_count": 49,
     "metadata": {},
     "output_type": "execute_result"
    }
   ],
   "source": [
    "#value_counts northeast\n",
    "df_ords_prods_custmrs[df_ords_prods_custmrs['us_region'] == 'northeast_region']['age_category'].value_counts()"
   ]
  },
  {
   "cell_type": "code",
   "execution_count": 50,
   "id": "ab0ad546",
   "metadata": {},
   "outputs": [
    {
     "data": {
      "text/plain": [
       "middle    3840212\n",
       "old       1990844\n",
       "young     1766269\n",
       "Name: age_category, dtype: int64"
      ]
     },
     "execution_count": 50,
     "metadata": {},
     "output_type": "execute_result"
    }
   ],
   "source": [
    "#value_counts midwest\n",
    "df_ords_prods_custmrs[df_ords_prods_custmrs['us_region'] == 'midwest_region']['age_category'].value_counts()"
   ]
  },
  {
   "cell_type": "code",
   "execution_count": 51,
   "id": "fecc1f98",
   "metadata": {},
   "outputs": [
    {
     "data": {
      "text/plain": [
       "middle    5391861\n",
       "old       2836257\n",
       "young     2563767\n",
       "Name: age_category, dtype: int64"
      ]
     },
     "execution_count": 51,
     "metadata": {},
     "output_type": "execute_result"
    }
   ],
   "source": [
    "#value_counts south\n",
    "df_ords_prods_custmrs[df_ords_prods_custmrs['us_region'] == 'south_region']['age_category'].value_counts()"
   ]
  },
  {
   "cell_type": "code",
   "execution_count": 52,
   "id": "45c413dc",
   "metadata": {},
   "outputs": [
    {
     "data": {
      "text/plain": [
       "middle    4152470\n",
       "old       2194080\n",
       "young     1946363\n",
       "Name: age_category, dtype: int64"
      ]
     },
     "execution_count": 52,
     "metadata": {},
     "output_type": "execute_result"
    }
   ],
   "source": [
    "df_ords_prods_custmrs[df_ords_prods_custmrs['us_region'] == 'west_region']['age_category'].value_counts()"
   ]
  },
  {
   "cell_type": "markdown",
   "id": "087a7149",
   "metadata": {},
   "source": [
    "### among all regions amount of customers per age category is  more or less same. Most customers are in middle age category, then comes older generation and least amount of customers are in young category"
   ]
  },
  {
   "cell_type": "code",
   "execution_count": null,
   "id": "d7a3afc7",
   "metadata": {},
   "outputs": [],
   "source": []
  },
  {
   "cell_type": "markdown",
   "id": "7a9237b5",
   "metadata": {},
   "source": [
    "# income and age category profiling and insights"
   ]
  },
  {
   "cell_type": "code",
   "execution_count": 53,
   "id": "52db02c4",
   "metadata": {
    "scrolled": true
   },
   "outputs": [
    {
     "data": {
      "text/html": [
       "<div>\n",
       "<style scoped>\n",
       "    .dataframe tbody tr th:only-of-type {\n",
       "        vertical-align: middle;\n",
       "    }\n",
       "\n",
       "    .dataframe tbody tr th {\n",
       "        vertical-align: top;\n",
       "    }\n",
       "\n",
       "    .dataframe thead tr th {\n",
       "        text-align: left;\n",
       "    }\n",
       "\n",
       "    .dataframe thead tr:last-of-type th {\n",
       "        text-align: right;\n",
       "    }\n",
       "</style>\n",
       "<table border=\"1\" class=\"dataframe\">\n",
       "  <thead>\n",
       "    <tr>\n",
       "      <th></th>\n",
       "      <th colspan=\"3\" halign=\"left\">income</th>\n",
       "    </tr>\n",
       "    <tr>\n",
       "      <th></th>\n",
       "      <th>min</th>\n",
       "      <th>max</th>\n",
       "      <th>mean</th>\n",
       "    </tr>\n",
       "    <tr>\n",
       "      <th>age_category</th>\n",
       "      <th></th>\n",
       "      <th></th>\n",
       "      <th></th>\n",
       "    </tr>\n",
       "  </thead>\n",
       "  <tbody>\n",
       "    <tr>\n",
       "      <th>middle</th>\n",
       "      <td>25903</td>\n",
       "      <td>592409</td>\n",
       "      <td>104555.927875</td>\n",
       "    </tr>\n",
       "    <tr>\n",
       "      <th>old</th>\n",
       "      <td>29001</td>\n",
       "      <td>593901</td>\n",
       "      <td>115588.917317</td>\n",
       "    </tr>\n",
       "    <tr>\n",
       "      <th>young</th>\n",
       "      <td>25937</td>\n",
       "      <td>396364</td>\n",
       "      <td>70400.463407</td>\n",
       "    </tr>\n",
       "  </tbody>\n",
       "</table>\n",
       "</div>"
      ],
      "text/plain": [
       "             income                       \n",
       "                min     max           mean\n",
       "age_category                              \n",
       "middle        25903  592409  104555.927875\n",
       "old           29001  593901  115588.917317\n",
       "young         25937  396364   70400.463407"
      ]
     },
     "execution_count": 53,
     "metadata": {},
     "output_type": "execute_result"
    }
   ],
   "source": [
    "# profiling Age group and their income\n",
    "df_ords_prods_custmrs.groupby('age_category').agg({'income': ['min', 'max', 'mean']})"
   ]
  },
  {
   "cell_type": "code",
   "execution_count": null,
   "id": "76364b49",
   "metadata": {},
   "outputs": [],
   "source": []
  },
  {
   "cell_type": "markdown",
   "id": "ba2c48d2",
   "metadata": {},
   "source": [
    "#### as older customer is as higher income this customer has"
   ]
  },
  {
   "cell_type": "code",
   "execution_count": null,
   "id": "cc1b5e81",
   "metadata": {},
   "outputs": [],
   "source": []
  },
  {
   "cell_type": "code",
   "execution_count": 54,
   "id": "0aa8734d",
   "metadata": {},
   "outputs": [
    {
     "data": {
      "text/plain": [
       "25903"
      ]
     },
     "execution_count": 54,
     "metadata": {},
     "output_type": "execute_result"
    }
   ],
   "source": [
    "df_ords_prods_custmrs['income'].min()"
   ]
  },
  {
   "cell_type": "code",
   "execution_count": 55,
   "id": "8f0703be",
   "metadata": {},
   "outputs": [
    {
     "data": {
      "text/plain": [
       "99437.73329450376"
      ]
     },
     "execution_count": 55,
     "metadata": {},
     "output_type": "execute_result"
    }
   ],
   "source": [
    "df_ords_prods_custmrs['income'].mean()"
   ]
  },
  {
   "cell_type": "code",
   "execution_count": 56,
   "id": "509958d4",
   "metadata": {},
   "outputs": [
    {
     "data": {
      "text/plain": [
       "593901"
      ]
     },
     "execution_count": 56,
     "metadata": {},
     "output_type": "execute_result"
    }
   ],
   "source": [
    "df_ords_prods_custmrs['income'].max()"
   ]
  },
  {
   "cell_type": "code",
   "execution_count": 57,
   "id": "9288f59b",
   "metadata": {},
   "outputs": [
    {
     "data": {
      "text/plain": [
       "67004.0"
      ]
     },
     "execution_count": 57,
     "metadata": {},
     "output_type": "execute_result"
    }
   ],
   "source": [
    "# checking quantiles\n",
    "df_ords_prods_custmrs['income'].quantile(0.25)"
   ]
  },
  {
   "cell_type": "code",
   "execution_count": 58,
   "id": "6891d9ee",
   "metadata": {},
   "outputs": [
    {
     "data": {
      "text/plain": [
       "96618.0"
      ]
     },
     "execution_count": 58,
     "metadata": {},
     "output_type": "execute_result"
    }
   ],
   "source": [
    "df_ords_prods_custmrs['income'].quantile(0.50)"
   ]
  },
  {
   "cell_type": "code",
   "execution_count": 59,
   "id": "ac7b91cb",
   "metadata": {},
   "outputs": [
    {
     "data": {
      "text/plain": [
       "127912.0"
      ]
     },
     "execution_count": 59,
     "metadata": {},
     "output_type": "execute_result"
    }
   ],
   "source": [
    "df_ords_prods_custmrs['income'].quantile(0.75)"
   ]
  },
  {
   "cell_type": "code",
   "execution_count": 60,
   "id": "a91eefd3",
   "metadata": {},
   "outputs": [],
   "source": [
    "# creating shell for the new column    \n",
    "result_customer_income_profile = []\n",
    "for value in df_ords_prods_custmrs['income']:\n",
    "  if  value <96618:\n",
    "    result_customer_income_profile.append('low income')\n",
    "  elif value >= 96618 and value <127912:\n",
    "    result_customer_income_profile.append('middle income')\n",
    "  elif value >= 127912:\n",
    "    result_customer_income_profile.append('high income')\n",
    "  else:\n",
    "    result_customer_income_profile.append('not available')"
   ]
  },
  {
   "cell_type": "code",
   "execution_count": 61,
   "id": "91a7f779",
   "metadata": {},
   "outputs": [],
   "source": [
    "# creating new column based on the created shell\n",
    "df_ords_prods_custmrs['income_category'] = result_customer_income_profile"
   ]
  },
  {
   "cell_type": "code",
   "execution_count": 62,
   "id": "6e44dea9",
   "metadata": {},
   "outputs": [
    {
     "data": {
      "text/plain": [
       "high income       8101288\n",
       "low income       16202421\n",
       "middle income     8101150\n",
       "Name: income_category, dtype: int64"
      ]
     },
     "execution_count": 62,
     "metadata": {},
     "output_type": "execute_result"
    }
   ],
   "source": [
    "# checking new category\n",
    "df_ords_prods_custmrs['income_category'].value_counts().sort_index()"
   ]
  },
  {
   "cell_type": "code",
   "execution_count": 63,
   "id": "834e7764",
   "metadata": {},
   "outputs": [
    {
     "data": {
      "text/plain": [
       "high income      1440856\n",
       "low income       2849589\n",
       "middle income    1432291\n",
       "Name: income_category, dtype: int64"
      ]
     },
     "execution_count": 63,
     "metadata": {},
     "output_type": "execute_result"
    }
   ],
   "source": [
    "# northeast income value counts\n",
    "df_ords_prods_custmrs[df_ords_prods_custmrs['us_region'] == 'northeast_region']['income_category'].value_counts().sort_index()"
   ]
  },
  {
   "cell_type": "code",
   "execution_count": 64,
   "id": "ddf8b92a",
   "metadata": {},
   "outputs": [
    {
     "data": {
      "text/plain": [
       "high income      1928043\n",
       "low income       3734391\n",
       "middle income    1934891\n",
       "Name: income_category, dtype: int64"
      ]
     },
     "execution_count": 64,
     "metadata": {},
     "output_type": "execute_result"
    }
   ],
   "source": [
    "# midwest income value counts\n",
    "df_ords_prods_custmrs[df_ords_prods_custmrs['us_region'] == 'midwest_region']['income_category'].value_counts().sort_index()"
   ]
  },
  {
   "cell_type": "code",
   "execution_count": 65,
   "id": "827bdc71",
   "metadata": {},
   "outputs": [
    {
     "data": {
      "text/plain": [
       "high income      2666255\n",
       "low income       5475444\n",
       "middle income    2650186\n",
       "Name: income_category, dtype: int64"
      ]
     },
     "execution_count": 65,
     "metadata": {},
     "output_type": "execute_result"
    }
   ],
   "source": [
    "# south_region value counts\n",
    "df_ords_prods_custmrs[df_ords_prods_custmrs['us_region'] == 'south_region']['income_category'].value_counts().sort_index()"
   ]
  },
  {
   "cell_type": "code",
   "execution_count": 66,
   "id": "76b28f36",
   "metadata": {
    "scrolled": true
   },
   "outputs": [
    {
     "data": {
      "text/plain": [
       "high income      2066134\n",
       "low income       4142997\n",
       "middle income    2083782\n",
       "Name: income_category, dtype: int64"
      ]
     },
     "execution_count": 66,
     "metadata": {},
     "output_type": "execute_result"
    }
   ],
   "source": [
    "# west_region value counts\n",
    "df_ords_prods_custmrs[df_ords_prods_custmrs['us_region'] == 'west_region']['income_category'].value_counts().sort_index()"
   ]
  },
  {
   "cell_type": "code",
   "execution_count": 67,
   "id": "21906440",
   "metadata": {},
   "outputs": [],
   "source": [
    "# creating a subset of a data frame to see \n",
    "df_income_characteristic = df_ords_prods_custmrs.groupby(['us_region', 'income_category']).size().reset_index(name='count')"
   ]
  },
  {
   "cell_type": "code",
   "execution_count": 68,
   "id": "03bd582e",
   "metadata": {
    "scrolled": true
   },
   "outputs": [
    {
     "data": {
      "text/html": [
       "<div>\n",
       "<style scoped>\n",
       "    .dataframe tbody tr th:only-of-type {\n",
       "        vertical-align: middle;\n",
       "    }\n",
       "\n",
       "    .dataframe tbody tr th {\n",
       "        vertical-align: top;\n",
       "    }\n",
       "\n",
       "    .dataframe thead th {\n",
       "        text-align: right;\n",
       "    }\n",
       "</style>\n",
       "<table border=\"1\" class=\"dataframe\">\n",
       "  <thead>\n",
       "    <tr style=\"text-align: right;\">\n",
       "      <th></th>\n",
       "      <th>us_region</th>\n",
       "      <th>income_category</th>\n",
       "      <th>count</th>\n",
       "    </tr>\n",
       "  </thead>\n",
       "  <tbody>\n",
       "    <tr>\n",
       "      <th>6</th>\n",
       "      <td>south_region</td>\n",
       "      <td>high income</td>\n",
       "      <td>2666255</td>\n",
       "    </tr>\n",
       "    <tr>\n",
       "      <th>9</th>\n",
       "      <td>west_region</td>\n",
       "      <td>high income</td>\n",
       "      <td>2066134</td>\n",
       "    </tr>\n",
       "    <tr>\n",
       "      <th>0</th>\n",
       "      <td>midwest_region</td>\n",
       "      <td>high income</td>\n",
       "      <td>1928043</td>\n",
       "    </tr>\n",
       "    <tr>\n",
       "      <th>3</th>\n",
       "      <td>northeast_region</td>\n",
       "      <td>high income</td>\n",
       "      <td>1440856</td>\n",
       "    </tr>\n",
       "    <tr>\n",
       "      <th>7</th>\n",
       "      <td>south_region</td>\n",
       "      <td>low income</td>\n",
       "      <td>5475444</td>\n",
       "    </tr>\n",
       "    <tr>\n",
       "      <th>10</th>\n",
       "      <td>west_region</td>\n",
       "      <td>low income</td>\n",
       "      <td>4142997</td>\n",
       "    </tr>\n",
       "    <tr>\n",
       "      <th>1</th>\n",
       "      <td>midwest_region</td>\n",
       "      <td>low income</td>\n",
       "      <td>3734391</td>\n",
       "    </tr>\n",
       "    <tr>\n",
       "      <th>4</th>\n",
       "      <td>northeast_region</td>\n",
       "      <td>low income</td>\n",
       "      <td>2849589</td>\n",
       "    </tr>\n",
       "    <tr>\n",
       "      <th>8</th>\n",
       "      <td>south_region</td>\n",
       "      <td>middle income</td>\n",
       "      <td>2650186</td>\n",
       "    </tr>\n",
       "    <tr>\n",
       "      <th>11</th>\n",
       "      <td>west_region</td>\n",
       "      <td>middle income</td>\n",
       "      <td>2083782</td>\n",
       "    </tr>\n",
       "    <tr>\n",
       "      <th>2</th>\n",
       "      <td>midwest_region</td>\n",
       "      <td>middle income</td>\n",
       "      <td>1934891</td>\n",
       "    </tr>\n",
       "    <tr>\n",
       "      <th>5</th>\n",
       "      <td>northeast_region</td>\n",
       "      <td>middle income</td>\n",
       "      <td>1432291</td>\n",
       "    </tr>\n",
       "  </tbody>\n",
       "</table>\n",
       "</div>"
      ],
      "text/plain": [
       "           us_region income_category    count\n",
       "6       south_region     high income  2666255\n",
       "9        west_region     high income  2066134\n",
       "0     midwest_region     high income  1928043\n",
       "3   northeast_region     high income  1440856\n",
       "7       south_region      low income  5475444\n",
       "10       west_region      low income  4142997\n",
       "1     midwest_region      low income  3734391\n",
       "4   northeast_region      low income  2849589\n",
       "8       south_region   middle income  2650186\n",
       "11       west_region   middle income  2083782\n",
       "2     midwest_region   middle income  1934891\n",
       "5   northeast_region   middle income  1432291"
      ]
     },
     "execution_count": 68,
     "metadata": {},
     "output_type": "execute_result"
    }
   ],
   "source": [
    "df_income_characteristic.head(60).sort_values(by=[ 'income_category','count'], ascending=[True, False])"
   ]
  },
  {
   "cell_type": "markdown",
   "id": "5955b7bc",
   "metadata": {},
   "source": [
    "#### as it is visible in the output above south has the most  population with the highest earners among other regions and northeast has the least high income customers. That explains why the low spender rate is so high in northeast and correlation between income and spending characteristic. There is a clear pattern "
   ]
  },
  {
   "cell_type": "code",
   "execution_count": 132,
   "id": "737ac10c",
   "metadata": {},
   "outputs": [
    {
     "data": {
      "image/png": "[encoded data removed]",
      "text/plain": [
       "<Figure size 640x480 with 1 Axes>"
      ]
     },
     "metadata": {},
     "output_type": "display_data"
    }
   ],
   "source": [
    "# bar chart northeast age category and income\n",
    "bar_chart_northeast_region_age_income = df_ords_prods_custmrs[df_ords_prods_custmrs['us_region'] == 'northeast_region']['income_category'].value_counts().plot.bar()"
   ]
  },
  {
   "cell_type": "code",
   "execution_count": 70,
   "id": "a6bb416f",
   "metadata": {
    "scrolled": true
   },
   "outputs": [
    {
     "data": {
      "image/png": "[encoded data removed]",
      "text/plain": [
       "<Figure size 640x480 with 1 Axes>"
      ]
     },
     "metadata": {},
     "output_type": "display_data"
    }
   ],
   "source": [
    "# bar chart midwest age category and income\n",
    "bar_chart_midwest_region_age_income = df_ords_prods_custmrs[df_ords_prods_custmrs['us_region'] == 'midwest_region']['income_category'].value_counts().plot.bar()"
   ]
  },
  {
   "cell_type": "code",
   "execution_count": 71,
   "id": "8a82ca39",
   "metadata": {},
   "outputs": [
    {
     "data": {
      "image/png": "[encoded data removed]",
      "text/plain": [
       "<Figure size 640x480 with 1 Axes>"
      ]
     },
     "metadata": {},
     "output_type": "display_data"
    }
   ],
   "source": [
    "# # bar chart south age category and income\n",
    "bar_chart_south_region_age_income = df_ords_prods_custmrs[df_ords_prods_custmrs['us_region'] == 'south_region']['income_category'].value_counts().plot.bar()"
   ]
  },
  {
   "cell_type": "code",
   "execution_count": 72,
   "id": "ccfaac30",
   "metadata": {
    "scrolled": true
   },
   "outputs": [
    {
     "data": {
      "image/png": "[encoded data removed]",
      "text/plain": [
       "<Figure size 640x480 with 1 Axes>"
      ]
     },
     "metadata": {},
     "output_type": "display_data"
    }
   ],
   "source": [
    "#  bar chart west age category and income\n",
    "bar_chart_west_region_age_income = df_ords_prods_custmrs[df_ords_prods_custmrs['us_region'] == 'west_region']['income_category'].value_counts().plot.bar()"
   ]
  },
  {
   "cell_type": "code",
   "execution_count": null,
   "id": "cf4b4df6",
   "metadata": {},
   "outputs": [],
   "source": []
  },
  {
   "cell_type": "code",
   "execution_count": 127,
   "id": "e9f8be9e",
   "metadata": {},
   "outputs": [],
   "source": [
    "# saving all bar charts\n",
    "bar_chart_northeast_region_age_income.figure.savefig(os.path.join(path, '04 Analysis','Visualizations', '4.10. visualization', 'region and income category','northeast_income_age.png'))"
   ]
  },
  {
   "cell_type": "code",
   "execution_count": 128,
   "id": "8a66a6e3",
   "metadata": {},
   "outputs": [],
   "source": [
    " bar_chart_midwest_region_age_income.figure.savefig(os.path.join(path, '04 Analysis','Visualizations', '4.10. visualization', 'region and income category','midwest_income_age.png'))"
   ]
  },
  {
   "cell_type": "code",
   "execution_count": 129,
   "id": "32965a43",
   "metadata": {},
   "outputs": [],
   "source": [
    " bar_chart_south_region_age_income.figure.savefig(os.path.join(path, '04 Analysis','Visualizations', '4.10. visualization', 'region and income category','south_income_age.png'))"
   ]
  },
  {
   "cell_type": "code",
   "execution_count": 130,
   "id": "815fa931",
   "metadata": {},
   "outputs": [],
   "source": [
    " bar_chart_west_region_age_income.figure.savefig(os.path.join(path, '04 Analysis','Visualizations', '4.10. visualization', 'region and income category','west_income_age.png'))"
   ]
  },
  {
   "cell_type": "code",
   "execution_count": null,
   "id": "cbc64777",
   "metadata": {},
   "outputs": [],
   "source": []
  },
  {
   "cell_type": "code",
   "execution_count": 78,
   "id": "bae8d3f6",
   "metadata": {
    "scrolled": true
   },
   "outputs": [
    {
     "data": {
      "text/html": [
       "<div>\n",
       "<style scoped>\n",
       "    .dataframe tbody tr th:only-of-type {\n",
       "        vertical-align: middle;\n",
       "    }\n",
       "\n",
       "    .dataframe tbody tr th {\n",
       "        vertical-align: top;\n",
       "    }\n",
       "\n",
       "    .dataframe thead tr th {\n",
       "        text-align: left;\n",
       "    }\n",
       "\n",
       "    .dataframe thead tr:last-of-type th {\n",
       "        text-align: right;\n",
       "    }\n",
       "</style>\n",
       "<table border=\"1\" class=\"dataframe\">\n",
       "  <thead>\n",
       "    <tr>\n",
       "      <th></th>\n",
       "      <th colspan=\"4\" halign=\"left\">prices</th>\n",
       "    </tr>\n",
       "    <tr>\n",
       "      <th></th>\n",
       "      <th>min</th>\n",
       "      <th>max</th>\n",
       "      <th>mean</th>\n",
       "      <th>median</th>\n",
       "    </tr>\n",
       "    <tr>\n",
       "      <th>age_category</th>\n",
       "      <th></th>\n",
       "      <th></th>\n",
       "      <th></th>\n",
       "      <th></th>\n",
       "    </tr>\n",
       "  </thead>\n",
       "  <tbody>\n",
       "    <tr>\n",
       "      <th>middle</th>\n",
       "      <td>1.0</td>\n",
       "      <td>99999.0</td>\n",
       "      <td>12.029719</td>\n",
       "      <td>7.4</td>\n",
       "    </tr>\n",
       "    <tr>\n",
       "      <th>old</th>\n",
       "      <td>1.0</td>\n",
       "      <td>99999.0</td>\n",
       "      <td>11.768850</td>\n",
       "      <td>7.4</td>\n",
       "    </tr>\n",
       "    <tr>\n",
       "      <th>young</th>\n",
       "      <td>1.0</td>\n",
       "      <td>99999.0</td>\n",
       "      <td>12.112746</td>\n",
       "      <td>7.4</td>\n",
       "    </tr>\n",
       "  </tbody>\n",
       "</table>\n",
       "</div>"
      ],
      "text/plain": [
       "             prices                           \n",
       "                min      max       mean median\n",
       "age_category                                  \n",
       "middle          1.0  99999.0  12.029719    7.4\n",
       "old             1.0  99999.0  11.768850    7.4\n",
       "young           1.0  99999.0  12.112746    7.4"
      ]
     },
     "execution_count": 78,
     "metadata": {},
     "output_type": "execute_result"
    }
   ],
   "source": [
    "# checking if there is any differences in the amount of money spent per age category\n",
    "df_ords_prods_custmrs.groupby('age_category').agg({'prices': ['min', 'max','mean', 'median']})"
   ]
  },
  {
   "cell_type": "markdown",
   "id": "4ab32d60",
   "metadata": {},
   "source": [
    "#### no clear pattern is visible. the only visible difference is the mean. Older generation spends in average a bit less"
   ]
  },
  {
   "cell_type": "code",
   "execution_count": null,
   "id": "be76cecb",
   "metadata": {},
   "outputs": [],
   "source": []
  },
  {
   "cell_type": "code",
   "execution_count": 79,
   "id": "c55380e7",
   "metadata": {},
   "outputs": [
    {
     "data": {
      "text/html": [
       "<div>\n",
       "<style scoped>\n",
       "    .dataframe tbody tr th:only-of-type {\n",
       "        vertical-align: middle;\n",
       "    }\n",
       "\n",
       "    .dataframe tbody tr th {\n",
       "        vertical-align: top;\n",
       "    }\n",
       "\n",
       "    .dataframe thead tr th {\n",
       "        text-align: left;\n",
       "    }\n",
       "\n",
       "    .dataframe thead tr:last-of-type th {\n",
       "        text-align: right;\n",
       "    }\n",
       "</style>\n",
       "<table border=\"1\" class=\"dataframe\">\n",
       "  <thead>\n",
       "    <tr>\n",
       "      <th></th>\n",
       "      <th>order_dow</th>\n",
       "    </tr>\n",
       "    <tr>\n",
       "      <th></th>\n",
       "      <th>mean</th>\n",
       "    </tr>\n",
       "    <tr>\n",
       "      <th>age_category</th>\n",
       "      <th></th>\n",
       "    </tr>\n",
       "  </thead>\n",
       "  <tbody>\n",
       "    <tr>\n",
       "      <th>middle</th>\n",
       "      <td>2.739799</td>\n",
       "    </tr>\n",
       "    <tr>\n",
       "      <th>old</th>\n",
       "      <td>2.745084</td>\n",
       "    </tr>\n",
       "    <tr>\n",
       "      <th>young</th>\n",
       "      <td>2.729895</td>\n",
       "    </tr>\n",
       "  </tbody>\n",
       "</table>\n",
       "</div>"
      ],
      "text/plain": [
       "             order_dow\n",
       "                  mean\n",
       "age_category          \n",
       "middle        2.739799\n",
       "old           2.745084\n",
       "young         2.729895"
      ]
     },
     "execution_count": 79,
     "metadata": {},
     "output_type": "execute_result"
    }
   ],
   "source": [
    "# checking if there is any pattern between age group and order dow\n",
    "df_ords_prods_custmrs.groupby('age_category').agg({'order_dow': ['mean']})"
   ]
  },
  {
   "cell_type": "markdown",
   "id": "48d64ed8",
   "metadata": {},
   "source": [
    "# no clear pattern is visible. "
   ]
  },
  {
   "cell_type": "code",
   "execution_count": 81,
   "id": "d1be8139",
   "metadata": {},
   "outputs": [
    {
     "data": {
      "text/html": [
       "<div>\n",
       "<style scoped>\n",
       "    .dataframe tbody tr th:only-of-type {\n",
       "        vertical-align: middle;\n",
       "    }\n",
       "\n",
       "    .dataframe tbody tr th {\n",
       "        vertical-align: top;\n",
       "    }\n",
       "\n",
       "    .dataframe thead tr th {\n",
       "        text-align: left;\n",
       "    }\n",
       "\n",
       "    .dataframe thead tr:last-of-type th {\n",
       "        text-align: right;\n",
       "    }\n",
       "</style>\n",
       "<table border=\"1\" class=\"dataframe\">\n",
       "  <thead>\n",
       "    <tr>\n",
       "      <th></th>\n",
       "      <th></th>\n",
       "      <th colspan=\"3\" halign=\"left\">order_hour_of_day</th>\n",
       "    </tr>\n",
       "    <tr>\n",
       "      <th></th>\n",
       "      <th></th>\n",
       "      <th>min</th>\n",
       "      <th>max</th>\n",
       "      <th>mean</th>\n",
       "    </tr>\n",
       "    <tr>\n",
       "      <th>age_category</th>\n",
       "      <th>us_region</th>\n",
       "      <th></th>\n",
       "      <th></th>\n",
       "      <th></th>\n",
       "    </tr>\n",
       "  </thead>\n",
       "  <tbody>\n",
       "    <tr>\n",
       "      <th rowspan=\"4\" valign=\"top\">middle</th>\n",
       "      <th>midwest_region</th>\n",
       "      <td>0</td>\n",
       "      <td>23</td>\n",
       "      <td>13.468339</td>\n",
       "    </tr>\n",
       "    <tr>\n",
       "      <th>northeast_region</th>\n",
       "      <td>0</td>\n",
       "      <td>23</td>\n",
       "      <td>13.446526</td>\n",
       "    </tr>\n",
       "    <tr>\n",
       "      <th>south_region</th>\n",
       "      <td>0</td>\n",
       "      <td>23</td>\n",
       "      <td>13.433178</td>\n",
       "    </tr>\n",
       "    <tr>\n",
       "      <th>west_region</th>\n",
       "      <td>0</td>\n",
       "      <td>23</td>\n",
       "      <td>13.394511</td>\n",
       "    </tr>\n",
       "    <tr>\n",
       "      <th rowspan=\"4\" valign=\"top\">old</th>\n",
       "      <th>midwest_region</th>\n",
       "      <td>0</td>\n",
       "      <td>23</td>\n",
       "      <td>13.437495</td>\n",
       "    </tr>\n",
       "    <tr>\n",
       "      <th>northeast_region</th>\n",
       "      <td>0</td>\n",
       "      <td>23</td>\n",
       "      <td>13.394613</td>\n",
       "    </tr>\n",
       "    <tr>\n",
       "      <th>south_region</th>\n",
       "      <td>0</td>\n",
       "      <td>23</td>\n",
       "      <td>13.397620</td>\n",
       "    </tr>\n",
       "    <tr>\n",
       "      <th>west_region</th>\n",
       "      <td>0</td>\n",
       "      <td>23</td>\n",
       "      <td>13.476532</td>\n",
       "    </tr>\n",
       "    <tr>\n",
       "      <th rowspan=\"4\" valign=\"top\">young</th>\n",
       "      <th>midwest_region</th>\n",
       "      <td>0</td>\n",
       "      <td>23</td>\n",
       "      <td>13.400260</td>\n",
       "    </tr>\n",
       "    <tr>\n",
       "      <th>northeast_region</th>\n",
       "      <td>0</td>\n",
       "      <td>23</td>\n",
       "      <td>13.413261</td>\n",
       "    </tr>\n",
       "    <tr>\n",
       "      <th>south_region</th>\n",
       "      <td>0</td>\n",
       "      <td>23</td>\n",
       "      <td>13.403941</td>\n",
       "    </tr>\n",
       "    <tr>\n",
       "      <th>west_region</th>\n",
       "      <td>0</td>\n",
       "      <td>23</td>\n",
       "      <td>13.404798</td>\n",
       "    </tr>\n",
       "  </tbody>\n",
       "</table>\n",
       "</div>"
      ],
      "text/plain": [
       "                              order_hour_of_day               \n",
       "                                            min max       mean\n",
       "age_category us_region                                        \n",
       "middle       midwest_region                   0  23  13.468339\n",
       "             northeast_region                 0  23  13.446526\n",
       "             south_region                     0  23  13.433178\n",
       "             west_region                      0  23  13.394511\n",
       "old          midwest_region                   0  23  13.437495\n",
       "             northeast_region                 0  23  13.394613\n",
       "             south_region                     0  23  13.397620\n",
       "             west_region                      0  23  13.476532\n",
       "young        midwest_region                   0  23  13.400260\n",
       "             northeast_region                 0  23  13.413261\n",
       "             south_region                     0  23  13.403941\n",
       "             west_region                      0  23  13.404798"
      ]
     },
     "execution_count": 81,
     "metadata": {},
     "output_type": "execute_result"
    }
   ],
   "source": [
    "df_ords_prods_custmrs.groupby(['age_category', 'us_region']).agg({'order_hour_of_day': ['min','max','mean']})"
   ]
  },
  {
   "cell_type": "markdown",
   "id": "890d4f69",
   "metadata": {},
   "source": [
    "# there is no clear pattern on the hour of the day between age groups in different regions. Everyone is ordering at the same time in average"
   ]
  },
  {
   "cell_type": "code",
   "execution_count": 82,
   "id": "00533388",
   "metadata": {},
   "outputs": [],
   "source": [
    "# importing departments in order to merge department name with the data set\n",
    "df_dep = pd.read_csv(r'C:\\Users\\dog\\desktop\\Instacart Basket Analysis\\02 Data\\Prepared Data\\departments_wrangled.csv', index_col = False)"
   ]
  },
  {
   "cell_type": "code",
   "execution_count": 98,
   "id": "166be332",
   "metadata": {
    "scrolled": true
   },
   "outputs": [
    {
     "data": {
      "text/plain": [
       "Unnamed: 0  department     \n",
       "1           frozen             1\n",
       "12          meat seafood       1\n",
       "20          deli               1\n",
       "19          snacks             1\n",
       "18          babies             1\n",
       "17          household          1\n",
       "16          dairy eggs         1\n",
       "15          canned goods       1\n",
       "14          breakfast          1\n",
       "13          pantry             1\n",
       "11          personal care      1\n",
       "2           other              1\n",
       "10          bulk               1\n",
       "9           dry goods pasta    1\n",
       "8           pets               1\n",
       "7           beverages          1\n",
       "6           international      1\n",
       "5           alcohol            1\n",
       "4           produce            1\n",
       "3           bakery             1\n",
       "21          missing            1\n",
       "dtype: int64"
      ]
     },
     "execution_count": 98,
     "metadata": {},
     "output_type": "execute_result"
    }
   ],
   "source": [
    "df_dep.value_counts()"
   ]
  },
  {
   "cell_type": "markdown",
   "id": "4460b973",
   "metadata": {},
   "source": [
    "#### babies products and family size comparison"
   ]
  },
  {
   "cell_type": "code",
   "execution_count": 84,
   "id": "f6eb8a3c",
   "metadata": {},
   "outputs": [],
   "source": [
    "df_ords_prods_custmrs['number_dependants'].value_counts().sort_index()"
   ]
  },
  {
   "cell_type": "code",
   "execution_count": 85,
   "id": "42a8b3f1",
   "metadata": {},
   "outputs": [],
   "source": [
    "# creating new column fam size\n",
    "df_ords_prods_custmrs.loc[df_ords_prods_custmrs['number_dependants'] < 1, 'fam_size'] = 'small'\n"
   ]
  },
  {
   "cell_type": "code",
   "execution_count": 86,
   "id": "bbc1f54c",
   "metadata": {},
   "outputs": [],
   "source": [
    "df_ords_prods_custmrs.loc[df_ords_prods_custmrs['number_dependants'] == 1, 'fam_size'] = 'medium'\n"
   ]
  },
  {
   "cell_type": "code",
   "execution_count": 87,
   "id": "e4a8ca4c",
   "metadata": {},
   "outputs": [],
   "source": [
    "df_ords_prods_custmrs.loc[df_ords_prods_custmrs['number_dependants'] == 2, 'fam_size'] = 'big'\n"
   ]
  },
  {
   "cell_type": "code",
   "execution_count": 88,
   "id": "d85d1e4d",
   "metadata": {},
   "outputs": [],
   "source": [
    "df_ords_prods_custmrs.loc[df_ords_prods_custmrs['number_dependants'] >= 3, 'fam_size'] = 'large' "
   ]
  },
  {
   "cell_type": "code",
   "execution_count": 134,
   "id": "f380e32a",
   "metadata": {},
   "outputs": [
    {
     "data": {
      "text/plain": [
       "large     8135109\n",
       "small     8097503\n",
       "big       8091143\n",
       "medium    8081104\n",
       "Name: fam_size, dtype: int64"
      ]
     },
     "execution_count": 134,
     "metadata": {},
     "output_type": "execute_result"
    }
   ],
   "source": [
    "df_ords_prods_custmrs['fam_size'].value_counts(dropna = False)"
   ]
  },
  {
   "cell_type": "code",
   "execution_count": 94,
   "id": "00e15acc",
   "metadata": {
    "scrolled": true
   },
   "outputs": [
    {
     "data": {
      "text/plain": [
       "fam_size\n",
       "big       19247\n",
       "large     19074\n",
       "small     18518\n",
       "medium    18300\n",
       "dtype: int64"
      ]
     },
     "execution_count": 94,
     "metadata": {},
     "output_type": "execute_result"
    }
   ],
   "source": [
    "# checking if there is any pattern in family size and baby products ordering\n",
    "df_ords_prods_custmrs.query('department_id.isin([18]) & us_region.isin([\"northeast_region\"])').groupby('fam_size').size().sort_values(ascending=False)"
   ]
  },
  {
   "cell_type": "code",
   "execution_count": 95,
   "id": "bb8725d8",
   "metadata": {
    "scrolled": true
   },
   "outputs": [
    {
     "data": {
      "text/plain": [
       "fam_size\n",
       "medium    25541\n",
       "small     25389\n",
       "big       24039\n",
       "large     24014\n",
       "dtype: int64"
      ]
     },
     "execution_count": 95,
     "metadata": {},
     "output_type": "execute_result"
    }
   ],
   "source": [
    "df_ords_prods_custmrs.query('department_id.isin([18]) & us_region.isin([\"midwest_region\"])').groupby('fam_size').size().sort_values(ascending=False)"
   ]
  },
  {
   "cell_type": "code",
   "execution_count": 96,
   "id": "7349764b",
   "metadata": {},
   "outputs": [
    {
     "data": {
      "text/plain": [
       "fam_size\n",
       "big       39490\n",
       "small     36345\n",
       "large     35416\n",
       "medium    32403\n",
       "dtype: int64"
      ]
     },
     "execution_count": 96,
     "metadata": {},
     "output_type": "execute_result"
    }
   ],
   "source": [
    "df_ords_prods_custmrs.query('department_id.isin([18]) & us_region.isin([\"south_region\"])').groupby('fam_size').size().sort_values(ascending=False)"
   ]
  },
  {
   "cell_type": "code",
   "execution_count": 97,
   "id": "621330ad",
   "metadata": {
    "scrolled": true
   },
   "outputs": [
    {
     "data": {
      "text/plain": [
       "fam_size\n",
       "large     27590\n",
       "medium    26995\n",
       "small     26242\n",
       "big       25199\n",
       "dtype: int64"
      ]
     },
     "execution_count": 97,
     "metadata": {},
     "output_type": "execute_result"
    }
   ],
   "source": [
    "df_ords_prods_custmrs.query('department_id.isin([18]) & us_region.isin([\"west_region\"])').groupby('fam_size').size().sort_values(ascending=False)"
   ]
  },
  {
   "cell_type": "code",
   "execution_count": 140,
   "id": "7cc6eff1",
   "metadata": {
    "scrolled": false
   },
   "outputs": [
    {
     "data": {
      "image/png": "[encoded data removed]",
      "text/plain": [
       "<Figure size 640x480 with 1 Axes>"
      ]
     },
     "metadata": {},
     "output_type": "display_data"
    }
   ],
   "source": [
    "bar_famsize_babyorders_northeast = df_ords_prods_custmrs.query('department_id.isin([18]) & us_region.isin([\"northeast_region\"])').groupby('fam_size').size().sort_values(ascending=False).plot.bar()"
   ]
  },
  {
   "cell_type": "code",
   "execution_count": 141,
   "id": "92725307",
   "metadata": {
    "scrolled": true
   },
   "outputs": [
    {
     "data": {
      "image/png": "[encoded data removed]",
      "text/plain": [
       "<Figure size 640x480 with 1 Axes>"
      ]
     },
     "metadata": {},
     "output_type": "display_data"
    }
   ],
   "source": [
    "bar_famsize_babyorders_south = df_ords_prods_custmrs.query('department_id.isin([18]) & us_region.isin([\"south_region\"])').groupby('fam_size').size().sort_values(ascending=False).plot.bar()"
   ]
  },
  {
   "cell_type": "code",
   "execution_count": 142,
   "id": "de762541",
   "metadata": {},
   "outputs": [
    {
     "data": {
      "image/png": "[encoded data removed]",
      "text/plain": [
       "<Figure size 640x480 with 1 Axes>"
      ]
     },
     "metadata": {},
     "output_type": "display_data"
    }
   ],
   "source": [
    "bar_famsize_babyorders_midwest = df_ords_prods_custmrs.query('department_id.isin([18]) & us_region.isin([\"midwest_region\"])').groupby('fam_size').size().sort_values(ascending=False).plot.bar()"
   ]
  },
  {
   "cell_type": "code",
   "execution_count": 143,
   "id": "3f8fe941",
   "metadata": {},
   "outputs": [
    {
     "data": {
      "image/png": "[encoded data removed]",
      "text/plain": [
       "<Figure size 640x480 with 1 Axes>"
      ]
     },
     "metadata": {},
     "output_type": "display_data"
    }
   ],
   "source": [
    "bar_famsize_babyorders_west = df_ords_prods_custmrs.query('department_id.isin([18]) & us_region.isin([\"west_region\"])').groupby('fam_size').size().sort_values(ascending=False).plot.bar()"
   ]
  },
  {
   "cell_type": "code",
   "execution_count": 149,
   "id": "61837ca5",
   "metadata": {},
   "outputs": [],
   "source": [
    "bar_famsize_babyorders_northeast.figure.savefig(os.path.join(path, '04 Analysis','Visualizations', '4.10. visualization', 'famsize and babies orders','northeast_fam_size_babyorders.png'))"
   ]
  },
  {
   "cell_type": "code",
   "execution_count": 150,
   "id": "2f8adc92",
   "metadata": {},
   "outputs": [],
   "source": [
    "bar_famsize_babyorders_south.figure.savefig(os.path.join(path, '04 Analysis','Visualizations', '4.10. visualization', 'famsize and babies orders','south_fam_size_babyorders.png'))"
   ]
  },
  {
   "cell_type": "code",
   "execution_count": 151,
   "id": "1f043f4c",
   "metadata": {},
   "outputs": [],
   "source": [
    "bar_famsize_babyorders_midwest.figure.savefig(os.path.join(path, '04 Analysis','Visualizations', '4.10. visualization', 'famsize and babies orders','midwest_fam_size_babyorders.png'))"
   ]
  },
  {
   "cell_type": "code",
   "execution_count": 152,
   "id": "e0328679",
   "metadata": {},
   "outputs": [],
   "source": [
    "bar_famsize_babyorders_west.figure.savefig(os.path.join(path, '04 Analysis','Visualizations', '4.10. visualization', 'famsize and babies orders','west_fam_size_babyorders.png'))"
   ]
  },
  {
   "cell_type": "markdown",
   "id": "ca7cc76d",
   "metadata": {},
   "source": [
    "# as we can see there is no clear pattern in family size and baby products ordered\n",
    "\n",
    "# in some regions we can see that bigger and larger families has more babies orders, however in general it has no clear link to amount of deppendants "
   ]
  },
  {
   "cell_type": "code",
   "execution_count": 113,
   "id": "34f0e57d",
   "metadata": {},
   "outputs": [
    {
     "data": {
      "image/png": "[encoded data removed]",
      "text/plain": [
       "<Figure size 640x480 with 1 Axes>"
      ]
     },
     "metadata": {},
     "output_type": "display_data"
    }
   ],
   "source": [
    "bar_chart_northeast_region_fam = df_ords_prods_custmrs[df_ords_prods_custmrs['us_region'] == 'northeast_region']['fam_size'].value_counts().sort_index(ascending = False).plot.bar()"
   ]
  },
  {
   "cell_type": "code",
   "execution_count": 114,
   "id": "7f1fbda5",
   "metadata": {},
   "outputs": [
    {
     "data": {
      "image/png": "[encoded data removed]",
      "text/plain": [
       "<Figure size 640x480 with 1 Axes>"
      ]
     },
     "metadata": {},
     "output_type": "display_data"
    }
   ],
   "source": [
    "bar_chart_south_region_fam = df_ords_prods_custmrs[df_ords_prods_custmrs['us_region'] == 'south_region']['fam_size'].value_counts().sort_index(ascending = False).plot.bar()"
   ]
  },
  {
   "cell_type": "code",
   "execution_count": 115,
   "id": "220df473",
   "metadata": {},
   "outputs": [
    {
     "data": {
      "image/png": "[encoded data removed]",
      "text/plain": [
       "<Figure size 640x480 with 1 Axes>"
      ]
     },
     "metadata": {},
     "output_type": "display_data"
    }
   ],
   "source": [
    "bar_chart_midwest_region_fam = df_ords_prods_custmrs[df_ords_prods_custmrs['us_region'] == 'midwest_region']['fam_size'].value_counts().sort_index(ascending = False).plot.bar()"
   ]
  },
  {
   "cell_type": "code",
   "execution_count": 116,
   "id": "78fa2b4d",
   "metadata": {
    "scrolled": true
   },
   "outputs": [
    {
     "data": {
      "image/png": "[encoded data removed]",
      "text/plain": [
       "<Figure size 640x480 with 1 Axes>"
      ]
     },
     "metadata": {},
     "output_type": "display_data"
    }
   ],
   "source": [
    "bar_chart_west_region_fam = df_ords_prods_custmrs[df_ords_prods_custmrs['us_region'] == 'west_region']['fam_size'].value_counts().sort_index(ascending = False).plot.bar()"
   ]
  },
  {
   "cell_type": "code",
   "execution_count": 117,
   "id": "2792cfbf",
   "metadata": {},
   "outputs": [],
   "source": [
    "bar_chart_northeast_region_fam.figure.savefig(os.path.join(path, '04 Analysis','Visualizations', '4.10. visualization', 'family size per region','northeast_region_fam.png'))"
   ]
  },
  {
   "cell_type": "code",
   "execution_count": 118,
   "id": "5ddd2f46",
   "metadata": {},
   "outputs": [],
   "source": [
    "bar_chart_south_region_fam.figure.savefig(os.path.join(path, '04 Analysis','Visualizations', '4.10. visualization', 'family size per region','south_region_fam.png'))"
   ]
  },
  {
   "cell_type": "code",
   "execution_count": 119,
   "id": "92502ef1",
   "metadata": {},
   "outputs": [],
   "source": [
    "bar_chart_midwest_region_fam.figure.savefig(os.path.join(path, '04 Analysis','Visualizations', '4.10. visualization', 'family size per region','midwest_region_fam.png'))"
   ]
  },
  {
   "cell_type": "code",
   "execution_count": 120,
   "id": "8043d370",
   "metadata": {},
   "outputs": [],
   "source": [
    "bar_chart_west_region_fam.figure.savefig(os.path.join(path, '04 Analysis','Visualizations', '4.10. visualization', 'family size per region','west_region_fam.png'))"
   ]
  },
  {
   "cell_type": "markdown",
   "id": "d9e7a5b3",
   "metadata": {},
   "source": [
    "# it seems that also here there is no clear pattern. Family sizes varies a bit from region to region. However in each region the distribution between family sizes remains almost the same and there is no link to amount of deppendants and region where the customer lives in"
   ]
  },
  {
   "cell_type": "code",
   "execution_count": 112,
   "id": "e6c7f495",
   "metadata": {},
   "outputs": [
    {
     "data": {
      "text/plain": [
       "large     8135109\n",
       "small     8097503\n",
       "big       8091143\n",
       "medium    8081104\n",
       "Name: fam_size, dtype: int64"
      ]
     },
     "execution_count": 112,
     "metadata": {},
     "output_type": "execute_result"
    }
   ],
   "source": [
    "df_ords_prods_custmrs['fam_size'].value_counts(dropna = False)"
   ]
  },
  {
   "cell_type": "markdown",
   "id": "e242df9a",
   "metadata": {},
   "source": [
    "# generaly distribution amoung the family sizes is equal. There is almost same amount between all the groups. but the largest is the family with 3 dependants"
   ]
  },
  {
   "cell_type": "code",
   "execution_count": 153,
   "id": "fc6013d5",
   "metadata": {},
   "outputs": [],
   "source": [
    "df_ords_prods_custmrs.to_pickle(os.path.join(path, '02 Data','Prepared Data', 'df_ords_prods_custmrs4.10.pkl'))"
   ]
  },
  {
   "cell_type": "code",
   "execution_count": 157,
   "id": "b118d9e1",
   "metadata": {},
   "outputs": [
    {
     "data": {
      "text/html": [
       "<div>\n",
       "<style scoped>\n",
       "    .dataframe tbody tr th:only-of-type {\n",
       "        vertical-align: middle;\n",
       "    }\n",
       "\n",
       "    .dataframe tbody tr th {\n",
       "        vertical-align: top;\n",
       "    }\n",
       "\n",
       "    .dataframe thead tr th {\n",
       "        text-align: left;\n",
       "    }\n",
       "\n",
       "    .dataframe thead tr:last-of-type th {\n",
       "        text-align: right;\n",
       "    }\n",
       "</style>\n",
       "<table border=\"1\" class=\"dataframe\">\n",
       "  <thead>\n",
       "    <tr>\n",
       "      <th></th>\n",
       "      <th colspan=\"3\" halign=\"left\">order_number</th>\n",
       "    </tr>\n",
       "    <tr>\n",
       "      <th></th>\n",
       "      <th>mean</th>\n",
       "      <th>min</th>\n",
       "      <th>max</th>\n",
       "    </tr>\n",
       "    <tr>\n",
       "      <th>department_id</th>\n",
       "      <th></th>\n",
       "      <th></th>\n",
       "      <th></th>\n",
       "    </tr>\n",
       "  </thead>\n",
       "  <tbody>\n",
       "    <tr>\n",
       "      <th>1</th>\n",
       "      <td>15.457838</td>\n",
       "      <td>1</td>\n",
       "      <td>99</td>\n",
       "    </tr>\n",
       "    <tr>\n",
       "      <th>2</th>\n",
       "      <td>17.277920</td>\n",
       "      <td>1</td>\n",
       "      <td>99</td>\n",
       "    </tr>\n",
       "    <tr>\n",
       "      <th>3</th>\n",
       "      <td>17.170395</td>\n",
       "      <td>1</td>\n",
       "      <td>99</td>\n",
       "    </tr>\n",
       "    <tr>\n",
       "      <th>4</th>\n",
       "      <td>17.811403</td>\n",
       "      <td>1</td>\n",
       "      <td>99</td>\n",
       "    </tr>\n",
       "    <tr>\n",
       "      <th>5</th>\n",
       "      <td>15.215751</td>\n",
       "      <td>1</td>\n",
       "      <td>99</td>\n",
       "    </tr>\n",
       "    <tr>\n",
       "      <th>6</th>\n",
       "      <td>16.439806</td>\n",
       "      <td>1</td>\n",
       "      <td>99</td>\n",
       "    </tr>\n",
       "    <tr>\n",
       "      <th>7</th>\n",
       "      <td>17.225802</td>\n",
       "      <td>1</td>\n",
       "      <td>99</td>\n",
       "    </tr>\n",
       "    <tr>\n",
       "      <th>8</th>\n",
       "      <td>15.340650</td>\n",
       "      <td>1</td>\n",
       "      <td>99</td>\n",
       "    </tr>\n",
       "    <tr>\n",
       "      <th>9</th>\n",
       "      <td>15.895474</td>\n",
       "      <td>1</td>\n",
       "      <td>99</td>\n",
       "    </tr>\n",
       "    <tr>\n",
       "      <th>10</th>\n",
       "      <td>20.197148</td>\n",
       "      <td>1</td>\n",
       "      <td>99</td>\n",
       "    </tr>\n",
       "    <tr>\n",
       "      <th>11</th>\n",
       "      <td>16.170638</td>\n",
       "      <td>1</td>\n",
       "      <td>99</td>\n",
       "    </tr>\n",
       "    <tr>\n",
       "      <th>12</th>\n",
       "      <td>15.887671</td>\n",
       "      <td>1</td>\n",
       "      <td>99</td>\n",
       "    </tr>\n",
       "    <tr>\n",
       "      <th>13</th>\n",
       "      <td>16.583536</td>\n",
       "      <td>1</td>\n",
       "      <td>99</td>\n",
       "    </tr>\n",
       "    <tr>\n",
       "      <th>14</th>\n",
       "      <td>16.773669</td>\n",
       "      <td>1</td>\n",
       "      <td>99</td>\n",
       "    </tr>\n",
       "    <tr>\n",
       "      <th>15</th>\n",
       "      <td>16.165037</td>\n",
       "      <td>1</td>\n",
       "      <td>99</td>\n",
       "    </tr>\n",
       "    <tr>\n",
       "      <th>16</th>\n",
       "      <td>17.665606</td>\n",
       "      <td>1</td>\n",
       "      <td>99</td>\n",
       "    </tr>\n",
       "    <tr>\n",
       "      <th>17</th>\n",
       "      <td>15.694469</td>\n",
       "      <td>1</td>\n",
       "      <td>99</td>\n",
       "    </tr>\n",
       "    <tr>\n",
       "      <th>18</th>\n",
       "      <td>19.310397</td>\n",
       "      <td>1</td>\n",
       "      <td>99</td>\n",
       "    </tr>\n",
       "    <tr>\n",
       "      <th>19</th>\n",
       "      <td>17.177343</td>\n",
       "      <td>1</td>\n",
       "      <td>99</td>\n",
       "    </tr>\n",
       "    <tr>\n",
       "      <th>20</th>\n",
       "      <td>16.473447</td>\n",
       "      <td>1</td>\n",
       "      <td>99</td>\n",
       "    </tr>\n",
       "    <tr>\n",
       "      <th>21</th>\n",
       "      <td>22.902379</td>\n",
       "      <td>1</td>\n",
       "      <td>99</td>\n",
       "    </tr>\n",
       "  </tbody>\n",
       "</table>\n",
       "</div>"
      ],
      "text/plain": [
       "              order_number        \n",
       "                      mean min max\n",
       "department_id                     \n",
       "1                15.457838   1  99\n",
       "2                17.277920   1  99\n",
       "3                17.170395   1  99\n",
       "4                17.811403   1  99\n",
       "5                15.215751   1  99\n",
       "6                16.439806   1  99\n",
       "7                17.225802   1  99\n",
       "8                15.340650   1  99\n",
       "9                15.895474   1  99\n",
       "10               20.197148   1  99\n",
       "11               16.170638   1  99\n",
       "12               15.887671   1  99\n",
       "13               16.583536   1  99\n",
       "14               16.773669   1  99\n",
       "15               16.165037   1  99\n",
       "16               17.665606   1  99\n",
       "17               15.694469   1  99\n",
       "18               19.310397   1  99\n",
       "19               17.177343   1  99\n",
       "20               16.473447   1  99\n",
       "21               22.902379   1  99"
      ]
     },
     "execution_count": 157,
     "metadata": {},
     "output_type": "execute_result"
    }
   ],
   "source": [
    "df_ords_prods_custmrs.groupby('department_id').agg({'order_number': ['mean', 'min', 'max']}).sort_index()"
   ]
  },
  {
   "cell_type": "markdown",
   "id": "5c39837f",
   "metadata": {},
   "source": [
    "# department 21 20 and 19 has the highest mean accross all the orders"
   ]
  },
  {
   "cell_type": "code",
   "execution_count": 159,
   "id": "4c62e0a5",
   "metadata": {},
   "outputs": [
    {
     "data": {
      "text/plain": [
       "(32404859, 35)"
      ]
     },
     "execution_count": 159,
     "metadata": {},
     "output_type": "execute_result"
    }
   ],
   "source": [
    "df_ords_prods_custmrs.shape\n"
   ]
  },
  {
   "cell_type": "code",
   "execution_count": null,
   "id": "4f896211",
   "metadata": {},
   "outputs": [],
   "source": []
  }
 ],
 "metadata": {
  "kernelspec": {
   "display_name": "Python 3 (ipykernel)",
   "language": "python",
   "name": "python3"
  },
  "language_info": {
   "codemirror_mode": {
    "name": "ipython",
    "version": 3
   },
   "file_extension": ".py",
   "mimetype": "text/x-python",
   "name": "python",
   "nbconvert_exporter": "python",
   "pygments_lexer": "ipython3",
   "version": "3.9.13"
  }
 },
 "nbformat": 4,
 "nbformat_minor": 5
}
