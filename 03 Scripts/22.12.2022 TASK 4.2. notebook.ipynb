{
 "cells": [
  {
   "cell_type": "markdown",
   "id": "959c3de1",
   "metadata": {},
   "source": [
    "## task 4.2. "
   ]
  },
  {
   "cell_type": "code",
   "execution_count": 1,
   "id": "4f10dccc",
   "metadata": {},
   "outputs": [],
   "source": [
    "# Import libraries\n",
    "import pandas as pd\n",
    "import numpy as np\n",
    "import os"
   ]
  },
  {
   "cell_type": "code",
   "execution_count": 2,
   "id": "c5ec9c81",
   "metadata": {},
   "outputs": [],
   "source": [
    "# adding variables\n",
    "a = 25 \n",
    "b = 15\n",
    "c = 20\n",
    "d = 40"
   ]
  },
  {
   "cell_type": "code",
   "execution_count": 3,
   "id": "8143edf8",
   "metadata": {},
   "outputs": [
    {
     "data": {
      "text/plain": [
       "100"
      ]
     },
     "execution_count": 3,
     "metadata": {},
     "output_type": "execute_result"
    }
   ],
   "source": [
    "# code 3 different ways to reach result of 100 by adding or substracting numeric values\n",
    "a + b + c + d "
   ]
  },
  {
   "cell_type": "code",
   "execution_count": 4,
   "id": "55af95e2",
   "metadata": {},
   "outputs": [
    {
     "data": {
      "text/plain": [
       "100"
      ]
     },
     "execution_count": 4,
     "metadata": {},
     "output_type": "execute_result"
    }
   ],
   "source": [
    "# code 3 different ways to reach result of 100 by adding or substracting numeric values\n",
    "d + d + (d - c)  "
   ]
  },
  {
   "cell_type": "code",
   "execution_count": 5,
   "id": "b3cd3251",
   "metadata": {},
   "outputs": [
    {
     "data": {
      "text/plain": [
       "100.0"
      ]
     },
     "execution_count": 5,
     "metadata": {},
     "output_type": "execute_result"
    }
   ],
   "source": [
    "(a * 2) + ((d * 3) / 4) + c "
   ]
  },
  {
   "cell_type": "code",
   "execution_count": 6,
   "id": "4605c650",
   "metadata": {},
   "outputs": [],
   "source": [
    "# Code 2 floating-point variables and divide them by each other\n",
    "e = 50.50\n",
    "d = 2.2"
   ]
  },
  {
   "cell_type": "code",
   "execution_count": 7,
   "id": "5f078625",
   "metadata": {},
   "outputs": [
    {
     "data": {
      "text/plain": [
       "22.954545454545453"
      ]
     },
     "execution_count": 7,
     "metadata": {},
     "output_type": "execute_result"
    }
   ],
   "source": [
    "# Code 2 floating-point variables and divide them by each other\n",
    "e/d"
   ]
  },
  {
   "cell_type": "code",
   "execution_count": 19,
   "id": "6ac86870",
   "metadata": {},
   "outputs": [
    {
     "data": {
      "text/plain": [
       "' I dont like chicken wings!'"
      ]
     },
     "execution_count": 19,
     "metadata": {},
     "output_type": "execute_result"
    }
   ],
   "source": [
    "# Construct a short word made of separate strings (you’ll need to concatenate some strings!).\n",
    "\n",
    "f = 'chicken '\n",
    "g = 'wings!'\n",
    "h = ' I dont like '\n",
    "h + f + g "
   ]
  },
  {
   "cell_type": "code",
   "execution_count": 20,
   "id": "9ef1d602",
   "metadata": {
    "scrolled": true
   },
   "outputs": [
    {
     "data": {
      "text/plain": [
       "' I dont like chicken wings! I dont like chicken wings! I dont like chicken wings! I dont like chicken wings! I dont like chicken wings! I dont like chicken wings! I dont like chicken wings! I dont like chicken wings! I dont like chicken wings! I dont like chicken wings! I dont like chicken wings! I dont like chicken wings! I dont like chicken wings! I dont like chicken wings! I dont like chicken wings! I dont like chicken wings! I dont like chicken wings! I dont like chicken wings! I dont like chicken wings! I dont like chicken wings! I dont like chicken wings! I dont like chicken wings! I dont like chicken wings! I dont like chicken wings! I dont like chicken wings! I dont like chicken wings! I dont like chicken wings! I dont like chicken wings! I dont like chicken wings! I dont like chicken wings! I dont like chicken wings! I dont like chicken wings! I dont like chicken wings! I dont like chicken wings! I dont like chicken wings! I dont like chicken wings! I dont like chicken wings! I dont like chicken wings! I dont like chicken wings! I dont like chicken wings! I dont like chicken wings! I dont like chicken wings! I dont like chicken wings! I dont like chicken wings! I dont like chicken wings! I dont like chicken wings! I dont like chicken wings! I dont like chicken wings! I dont like chicken wings! I dont like chicken wings! I dont like chicken wings! I dont like chicken wings! I dont like chicken wings! I dont like chicken wings! I dont like chicken wings! I dont like chicken wings! I dont like chicken wings! I dont like chicken wings! I dont like chicken wings! I dont like chicken wings! I dont like chicken wings! I dont like chicken wings! I dont like chicken wings! I dont like chicken wings! I dont like chicken wings! I dont like chicken wings! I dont like chicken wings! I dont like chicken wings! I dont like chicken wings! I dont like chicken wings! I dont like chicken wings! I dont like chicken wings! I dont like chicken wings! I dont like chicken wings! I dont like chicken wings! I dont like chicken wings! I dont like chicken wings! I dont like chicken wings! I dont like chicken wings! I dont like chicken wings! I dont like chicken wings! I dont like chicken wings! I dont like chicken wings! I dont like chicken wings! I dont like chicken wings! I dont like chicken wings! I dont like chicken wings! I dont like chicken wings! I dont like chicken wings! I dont like chicken wings! I dont like chicken wings! I dont like chicken wings! I dont like chicken wings! I dont like chicken wings! I dont like chicken wings! I dont like chicken wings! I dont like chicken wings! I dont like chicken wings! I dont like chicken wings! I dont like chicken wings!'"
      ]
     },
     "execution_count": 20,
     "metadata": {},
     "output_type": "execute_result"
    }
   ],
   "source": [
    "(h + f + g) * 100"
   ]
  },
  {
   "cell_type": "code",
   "execution_count": null,
   "id": "170f95e1",
   "metadata": {},
   "outputs": [],
   "source": []
  },
  {
   "cell_type": "code",
   "execution_count": null,
   "id": "46f7749a",
   "metadata": {},
   "outputs": [],
   "source": []
  }
 ],
 "metadata": {
  "kernelspec": {
   "display_name": "Python 3 (ipykernel)",
   "language": "python",
   "name": "python3"
  },
  "language_info": {
   "codemirror_mode": {
    "name": "ipython",
    "version": 3
   },
   "file_extension": ".py",
   "mimetype": "text/x-python",
   "name": "python",
   "nbconvert_exporter": "python",
   "pygments_lexer": "ipython3",
   "version": "3.9.13"
  }
 },
 "nbformat": 4,
 "nbformat_minor": 5
}
